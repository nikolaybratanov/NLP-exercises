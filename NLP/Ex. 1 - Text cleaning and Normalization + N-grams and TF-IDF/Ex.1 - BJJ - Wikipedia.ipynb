{
 "cells": [
  {
   "cell_type": "code",
   "execution_count": 132,
   "id": "36782be4",
   "metadata": {},
   "outputs": [],
   "source": [
    "# Imports\n",
    "\n",
    "import pandas as pd\n",
    "import numpy as np\n",
    "import matplotlib.pyplot as plt\n",
    "\n",
    "import re\n",
    "import nltk\n",
    "import spacy\n",
    "\n",
    "from nltk import ngrams\n",
    "from nltk.corpus import stopwords\n",
    "from nltk.stem import PorterStemmer, WordNetLemmatizer\n",
    "from collections import Counter\n",
    "from sklearn.feature_extraction.text import TfidfVectorizer"
   ]
  },
  {
   "cell_type": "code",
   "execution_count": 53,
   "id": "f2058e18",
   "metadata": {},
   "outputs": [
    {
     "name": "stderr",
     "output_type": "stream",
     "text": [
      "[nltk_data] Downloading package punkt to\n",
      "[nltk_data]     C:\\Users\\Todor\\AppData\\Roaming\\nltk_data...\n",
      "[nltk_data]   Package punkt is already up-to-date!\n",
      "[nltk_data] Downloading package stopwords to\n",
      "[nltk_data]     C:\\Users\\Todor\\AppData\\Roaming\\nltk_data...\n",
      "[nltk_data]   Package stopwords is already up-to-date!\n",
      "[nltk_data] Downloading package wordnet to\n",
      "[nltk_data]     C:\\Users\\Todor\\AppData\\Roaming\\nltk_data...\n",
      "[nltk_data]   Package wordnet is already up-to-date!\n",
      "[nltk_data] Downloading package omw-1.4 to\n",
      "[nltk_data]     C:\\Users\\Todor\\AppData\\Roaming\\nltk_data...\n",
      "[nltk_data]   Package omw-1.4 is already up-to-date!\n"
     ]
    },
    {
     "data": {
      "text/plain": [
       "True"
      ]
     },
     "execution_count": 53,
     "metadata": {},
     "output_type": "execute_result"
    }
   ],
   "source": [
    "# Downloads\n",
    "\n",
    "nltk.download(\"punkt\")\n",
    "nltk.download(\"stopwords\")\n",
    "nltk.download(\"wordnet\")\n",
    "nltk.download(\"omw-1.4\")"
   ]
  },
  {
   "cell_type": "markdown",
   "id": "d4b9f393",
   "metadata": {},
   "source": [
    "# Exercise 1: Text Cleaning and Normalization\n",
    "\n",
    "## Agenda:\n",
    "\n",
    "I. Text Preprocessing\n",
    "\n",
    "1. Loading the raw text\n",
    "2. Converting text to lowercase\n",
    "3. Removing special characters, numbers, and punctuation\n",
    "4. Tokenization (splitting text into words or sentences)\n",
    "5. Stopword removal\n",
    "6. Stemming\n",
    "7. Lemmatization\n",
    "- with NLTK\n",
    "- with Spacy\n",
    "\n",
    "II. Text analysis\n",
    "\n",
    "8. Word Frequency distribution\n",
    "9. Bigram and Trigram Analysis\n",
    "10. TF-IDF Calculation"
   ]
  },
  {
   "cell_type": "markdown",
   "id": "0aa754a3",
   "metadata": {},
   "source": [
    "### I. Text Preprocessing\n",
    "\n",
    "#### 1. Loading the raw text"
   ]
  },
  {
   "cell_type": "code",
   "execution_count": 2,
   "id": "67a2d403",
   "metadata": {},
   "outputs": [],
   "source": [
    "# Loading the text file\n",
    "\n",
    "with open(\"BJJ.txt\", \"r\", encoding=\"utf-8\") as file:\n",
    "    text = file.read()"
   ]
  },
  {
   "cell_type": "code",
   "execution_count": 3,
   "id": "86502122",
   "metadata": {},
   "outputs": [
    {
     "name": "stdout",
     "output_type": "stream",
     "text": [
      "JJ, Gracie jiu-jitsu, gi/nogi jiu-jitsu, submission grappling\n",
      "Portuguese name:\n",
      "Jiu-jitsu brasileiro\n",
      "Japanese name:\n",
      "Burajirian jūjutsu (ブラジリアン柔術)\n",
      "Focus\tGround fighting, submission grappling\n",
      "Hardness\tFull contact\n",
      "Country of origin\tBrazil\n",
      "Creator\tMataemon Tanabe, Senjuro Kataoka, Taro Miyake, Yukio Tani, Sada Miyako, Geo Omori, Mitsuyo Maeda, Takeo Yano, Soshihiro Satake, Tokugoro Ito, Jacintho Ferro,[1] Donato Pires dos Reis,[1] Hélio Gracie, Carlos Gracie, George Gracie, Oswaldo Gracie, Luiz Fran\n"
     ]
    }
   ],
   "source": [
    "#Printing 1000 characters to check if it was loaded\n",
    "\n",
    "print(text[500:1000])"
   ]
  },
  {
   "cell_type": "markdown",
   "id": "ff02f65d",
   "metadata": {},
   "source": [
    "#### 2. Converting text to lowercase"
   ]
  },
  {
   "cell_type": "code",
   "execution_count": 4,
   "id": "2022238a",
   "metadata": {},
   "outputs": [
    {
     "name": "stdout",
     "output_type": "stream",
     "text": [
      "jj, gracie jiu-jitsu, gi/nogi jiu-jitsu, submission grappling\n",
      "portuguese name:\n",
      "jiu-jitsu brasileiro\n",
      "japanese name:\n",
      "burajirian jūjutsu (ブラジリアン柔術)\n",
      "focus\tground fighting, submission grappling\n",
      "hardness\tfull contact\n",
      "country of origin\tbrazil\n",
      "creator\tmataemon tanabe, senjuro kataoka, taro miyake, yukio tani, sada miyako, geo omori, mitsuyo maeda, takeo yano, soshihiro satake, tokugoro ito, jacintho ferro,[1] donato pires dos reis,[1] hélio gracie, carlos gracie, george gracie, oswaldo gracie, luiz fran\n"
     ]
    }
   ],
   "source": [
    "lowercase_text = text.lower()\n",
    "print(lowercase_text[500:1000])"
   ]
  },
  {
   "cell_type": "markdown",
   "id": "4d7f6c98",
   "metadata": {},
   "source": [
    "#### 3. Removing special characters, numbers, and punctuation"
   ]
  },
  {
   "cell_type": "code",
   "execution_count": 100,
   "id": "875f45a9",
   "metadata": {},
   "outputs": [
    {
     "name": "stdout",
     "output_type": "stream",
     "text": [
      "jiujitsu submission grappling\n",
      "portuguese name\n",
      "jiujitsu brasileiro\n",
      "japanese name\n",
      "burajirian jjutsu \n",
      "focus\tground fighting submission grappling\n",
      "hardness\tfull contact\n",
      "country of origin\tbrazil\n",
      "creator\tmataemon tanabe senjuro kataoka taro miyake yukio tani sada miyako geo omori mitsuyo maeda takeo yano soshihiro satake tokugoro ito jacintho ferro donato pires dos reis hlio gracie carlos gracie george gracie oswaldo gracie luiz frana oswaldo fadda\n",
      "famous practitioners\tsee full list\n",
      "parenthood\tkodokan \n"
     ]
    }
   ],
   "source": [
    "cleaned_text = re.sub(r\"[^a-zA-Z\\s]\", \"\", lowercase_text)\n",
    "print(cleaned_text[500:1000])"
   ]
  },
  {
   "cell_type": "markdown",
   "id": "e525ab1a",
   "metadata": {},
   "source": [
    "#### 4. Tokenization"
   ]
  },
  {
   "cell_type": "code",
   "execution_count": 101,
   "id": "3121ef92",
   "metadata": {},
   "outputs": [
    {
     "name": "stdout",
     "output_type": "stream",
     "text": [
      "['brazilian', 'jiujitsu', 'article', 'talk', 'read', 'edit', 'view', 'history', 'tools', 'appearance', 'hide', 'text', 'small', 'standard', 'large', 'width', 'standard', 'wide', 'color', 'beta', 'automatic', 'light', 'dark', 'from', 'wikipedia', 'the', 'free', 'encyclopedia', 'bjj', 'redirects', 'here', 'for', 'other', 'uses', 'see', 'bjj', 'disambiguation', 'gracie', 'jiujitsu', 'redirects', 'here', 'for', 'the', 'book', 'by', 'helio', 'gracie', 'see', 'gracie', 'jiujitsu']\n"
     ]
    }
   ],
   "source": [
    "# Word Tokenization\n",
    "words = nltk.word_tokenize(cleaned_text)\n",
    "print(words[0:50])"
   ]
  },
  {
   "cell_type": "code",
   "execution_count": 102,
   "id": "85bf7d6d",
   "metadata": {},
   "outputs": [
    {
     "name": "stdout",
     "output_type": "stream",
     "text": [
      "['brazilian jiujitsu\\n\\narticle\\ntalk\\nread\\nedit\\nview history\\n\\ntools\\nappearance hide\\ntext\\n\\nsmall\\n\\nstandard\\n\\nlarge\\nwidth\\n\\nstandard\\n\\nwide\\ncolor beta\\n\\nautomatic\\n\\nlight\\n\\ndark\\nfrom wikipedia the free encyclopedia\\nbjj redirects here for other uses see bjj disambiguation\\ngracie jiujitsu redirects here for the book by helio gracie see gracie jiujitsu book\\nbrazilian jiujitsu\\n\\nromulo barral attempting a triangle choke on gabriel vella at the  world jiujitsu championship\\nalso known as\\tbjj gracie jiujitsu ginogi jiujitsu submission grappling\\nportuguese name\\njiujitsu brasileiro\\njapanese name\\nburajirian jjutsu \\nfocus\\tground fighting submission grappling\\nhardness\\tfull contact\\ncountry of origin\\tbrazil\\ncreator\\tmataemon tanabe senjuro kataoka taro miyake yukio tani sada miyako geo omori mitsuyo maeda takeo yano soshihiro satake tokugoro ito jacintho ferro donato pires dos reis hlio gracie carlos gracie george gracie oswaldo gracie luiz frana oswaldo fadda\\nfamous practitioners\\tsee full list\\nparenthood\\tkodokan judo jujutsu wrestling\\ndescendant arts\\tsubmission grappling th planet jiujitsu\\nofficial website\\thttpsibjjfcom\\nbrazilian jiujitsu also abbreviated as bjj portuguese jiujitsu brasileiro iw itsu bazileju u  is a selfdefence martial art and combat sport based on grappling ground fighting and submission holds bjj is primarily a groundbased fighting style and focuses on taking ones opponent down to the ground gaining a dominant position and using a number of techniques to force them into submission via joint locks chokeholds or compression locks\\n\\nbrazilian jiujitsu was first developed around  by brazilian brothers carlos oswaldo gasto jr and hlio gracie after carlos was taught kodokan judo by a travelling japanese judoka mitsuyo maeda in  later on the gracie family developed their own selfdefense system which they named gracie jiujitsu bjj eventually came to be its own defined combat sport through the innovations practices and adaptation of gracie jiujitsu and judo and has become one of the essential martial arts for modern mma\\n\\nbjj revolves around the concept that a smaller weaker person can successfully defend themselves against a bigger stronger opponent by using leverage and weight distribution taking the fight to the ground and using a number of holds and submissions to defeat them sparring commonly referred to as rolling within the bjj community and live drilling plays a major role in the practitioners development in contrast to some other martial arts bjj can be practiced both using a gi uniform or not which is know as nogi bjj for this purpose rash guards are used the international brazilian jiujitsu federation ibjjf is the main governing body of the martial art establishing the rules and general guidelines as well as promoting competitions and training of referees bjj can also be used as a method of promoting physical fitness building character and as a way of life\\n\\nhistory\\norigins\\nmitsuyo maeda one of the kodokans top groundwork experts trained by tomita tsunejir the first student of judos founder kano jigoro was sent overseas to demonstrate and spread his art to the world he left japan in  and visited several countries giving jiudo demonstrations and accepting challenges from wrestlers boxers savate fighters and various other martial artists and arrived in brazil on  november \\n\\nmaeda  jacintho ferro\\ngasto gracie was a business partner of the american circus in belm in  italian argentine circus queirolo brothers staged shows there and presented maeda\\n\\nin  gastos eldest son carlos gracie watched a demonstration of kano jiujitsu judos common name at the time by maeda at the da paz theatre and decided he wanted to learn maeda accepted him as a pupil at his school overseen by jacintho ferro gracies account of the events is that his younger sibling hlio gracie gradually developed gracie jiujitsu as a softer pragmatic adaptation that focused more on the ground fighting and leverages aspect of jiujitsujudo newaza rather than the throws as he was unable to perform many judo throws due to his size that required direct opposition to an opponents strength\\n\\nalthough the gracie family is typically recognized as the main family to first promote brazilian jiujitsu as it is known today there was also another prominent lineage derived from maeda via another brazilian disciple luiz frana this lineage had been represented particularly by oswaldo fadda fadda and his students were famous for defeating the gracies in a gym battle and by the influential use of footlocks the lineage still survives through faddas links in teams such as nova unio and grappling fight team besides franas and faddas lineage there are four other main bjj branches in brazil gracie humait gracie barra carlson gracie jiujitsu and alliance jiu jitsu each branch traces its roots back to mitsuyo maeda\\n\\nname\\nthe name jiujitsu derives from an older romanization of its original spelling in the west the modern hepburn romanization of  is jjutsu\\n\\nwhen maeda left japan judo was still often referred to as kano jiujitsu or even more generically simply as jiujitsu higashi the coauthor of the complete kano jiujitsu judo wrote in the foreword\\n\\nsome confusion has arisen over the employment of the term jiudo to make the matter clear i will state that jiudo is the term selected by professor kano as describing his system more accurately than jiujitsu does professor kano is one of the leading educators of japan and it is natural that he should cast about for the technical word that would most accurately describe his system but the japanese people generally still cling to the more popular nomenclature and call it jiujitsu\\n\\n\\nyoung hlio gracie in \\noutside japan however this distinction was noted even less thus when maeda and satake arrived in brazil in  every newspaper announced their art as being jiujitsu despite both men being kodokan judoka\\n\\nit was not until  that the japanese government itself officially mandated that the correct name for the martial art taught in the japanese public schools should be judo rather than jujutsu in brazil the art is still called jiujitsu when the gracies went to the united states and spread jiujitsu they used the terms gracie jiujitsu and nongracies using the term brazilian jiujitsu to differentiate from the already present styles using similarsounding names in a  interview with yoshinori nishi hlio gracie said that he did not even know the word judo itself until the sport came in the s to brazil because he heard that mitsuyo maeda called his style jiujitsu\\n\\nthe art is sometimes referred to as gracie jiujitsu gjj a name trademarked by rorion gracie but after a legal dispute with his cousin carley gracie his trademark to the name was voided other members of the gracie family often call their style by personalized names such as ceaser gracie jiujitsu or renzo gracie jiujitsu and similarly the machado family call their style machado jiujitsu mjj while each style and its instructors have their own unique aspects they are all basic variations of brazilian jiujitsu\\n\\nbrazilian jiujitsu shares many techniques with the original kodokan judo especially certain styles practiced before judo became part of the olympics such as kosen judo and still practiced to a lesser extent as well as with the earlier ryu school of jujutsu because of this some practitioners have suggested that brazilian jiujitsu should just be called jiujitsu\\n\\ndivergence from kodokan judo and jujutsu\\ncertain changes were made to the rules of judo after it was introduced to brazil some of these rule changes sought to enhance it as a spectator sport and to improve safety several of these rule changes deemphasized the groundwork aspects of judo and others have reduced the range of joint locks application brazilian jiujitsu since its inception did not strictly follow kodokan judo rules this divergence helped bjj develop a distinct identity becoming a groundwork and submission focus fighting style this difference was later consolidated with the creation of a new set of rules that guide bjj practice today\\n\\neven though bjj uses and allows many of the techniques found in judo and jujutsu the evolution of these techniques in bjj has followed a distinct path giving primary emphasis to ground fighting positions and maneuvers and having the guard as the central working point of the fight this is reflected on how different fighting techniques are scored in competition in bjj positions such as the rear mount receive a higher score and the focus of the fight is to establish a dominant position against the adversary on the ground and submit them using chokeholds or joint locks by contrast in judo throwing techniques are scored higher and can give a direct victory if executed correctly the goal of the fight is to sweep or throw the opponent to the ground to win\\n\\nbjj also allows heelhooks and kneereaping which are prohibited in judo and any takedowns used in wrestling sambo or other grappling arts including direct attempts to take down by touching the legs or dragging the opponent to the ground spinal locks and cervical locks are not allowed in gi jiujitsu amateur mma multiple forms of nogi jiujitsu judo and other martial arts due to potential to cause serious bodily injury bjj also has become more sportsoriented in recent years prohibiting techniques such as slams another divergence of bjj from judo and jujutsu is that the first allows nogi practice and competition with its own subset of rules use of holds and takedowns from wrestling and other grappling styles is common in nogi bjj and strikes may also be used when the competition rules permit such as the open palm strike in cjj combat jiujitsu\\n\\nprominence\\nin  carlos gracie moved to the united states to teach jiujitsu and in  was followed by rorion gracie who cofounded the ultimate fighting championship ufc in  jiujitsu came to international prominence in martial arts circles when brazilian jiujitsu expert royce gracie won the first second and fourth ultimate fighting championships which at the time were single elimination martial arts tournaments royce fought successfully against several larger opponents proficient in other fighting styles including boxing shootfighting muay thai karate wrestling and taekwondo bjj has since become an elementary aspect of mma revealing the importance of ground fighting in a fight sport bjj tournaments continue to grow in popularity and have given rise to nogi submission grappling tournaments such as the adcc submission wrestling world championship and naga the north american grappling association sport bjj has also become a popular method of fitness around the world in recent years\\n\\nstyle of fighting\\nsee also list of brazilian jiujitsu techniques\\n\\nthis section needs additional citations for verification please help improve this article by adding citations to reliable sources in this section unsourced material may be challenged and removed january  learn how and when to remove this message\\nbrazilian jiujitsu focuses on getting an opponent to the ground in order to neutralize possible strength or size advantages through ground fighting techniques and submission holds involving jointlocks and chokeholds on the ground physical strength can be offset or enhanced through proper grappling techniques\\n\\nbjj employs a wide range of takedown techniques to bring an opponent to the ground such as pulling guard which is not used in other combat sports such as judo or wrestling once the opponent is on the ground a number of manoeuvres and countermanoeuvres are available to manipulate the opponent into a suitable position for the application of a submission technique achieving a dominant position on the ground is one of the hallmarks of bjj which includes effective use of the guard position to defend oneself from bottom using both submissions and sweeps with sweeps leading to the possibility of dominant position or an opportunity to pass the guard and passing the guard to dominate from top position with side control mount and back mount positions this system of manoeuvring and manipulation can be likened to a form of kinetic or physical chess when executed by two experienced practitioners a submission hold in bjj is often likened to the equivalent of checkmate where the opponent is left with no other option but to tap be injured or choked\\n\\nrenzo gracie wrote in his book mastering jujitsu\\n\\nthe classical jujutsu of old japan appeared to have no common strategy to guide a combatant over the course of a fight indeed this was one of kanos most fundamental and perceptive criticisms of the classical program maeda not only taught the art of judo to carlos gracie but also taught a particular philosophy about the nature of combat developed by kano and further refined by maeda based on his worldwide travels competing against fighters skilled in a wide variety of martial arts\\n\\nthe book details maedas theory as arguing that physical combat could be broken down into distinct phases such as the striking phase the grappling phase the ground phase etc thus it was a smart fighters task to keep the fight located in the phase of combat best suited to his own strengths renzo gracie stated that this was a fundamental influence of the gracie approach to combat these strategies were further developed over time by the gracie family among others and became prominent in contemporary mma\\n\\nground fighting\\na demonstration of brazilian jiujitsu during a class at standard bjj in rockville md\\nbrazilian jiujitsu is mainly differentiated from other martial arts by its greater emphasis on ground fighting bjj places less emphasis on standing techniques such as striking and throws although takedowns score points and the rules allows for a diverse range of techniques such as single double leg takedowns or foot sweeps some bjj practitioners also cross train with wrestling judo and sambo\\n\\ntraining methods\\n\\na brazilian jiujitsu instructor demonstrates how to tackle an opponent\\nas bjj focuses on submissions sparring and live drilling rolling become the most essential part of the training regime this type of training allows practitioners to practice at full speed and with full strength resembling the effort made in a competition training methods include drills in which techniques are practiced against a nonresisting and resisting partners isolation sparring commonly referred to as positional drilling where only a certain technique or sets of techniques are used and full sparring where each practitioner tries to submit their opponent through technique physical conditioning is also an important aspect of training\\n\\nthe gracie family lineage descended from helio gracie focuses on practical applications of bjj that apply primarily to selfdefense they will often run development drills in which a person is surrounded by a circle of other students who will attempt to attack the defending student who in turn must defend themselves using techniques\\n\\netiquette  customs\\nbrazilian jiujitsu gyms typically follow a set of ground rules to instill trust respect and cleanliness amongst students common practices include\\n\\ntaking shoes off before stepping on the mat\\nbowing before and after stepping on the mat\\nlining up in rank order before and after class\\nteaching or explaining techniques to lower ranked students\\naddressing the teacher as coach or professor\\nkeeping your gi closed with a belt\\nbowing or shaking hands before and after sparring\\ncovering any cuts with tape or gauze\\nhaving good hygiene practices including brushing teeth having a clean gi and wearing deodorant\\nprimary ground positions\\nmain article grappling position\\n\\nthis section needs additional citations for verification please help improve this article by adding citations to reliable sources in this section unsourced material may be challenged and removed december  learn how and when to remove this message\\nonce on the ground the bjj practitioner strives to take a dominant or controlling position from where to apply submissions these positions provide different submission or transition options\\n\\nside control\\nmain article side control\\n\\nan americana armlock submission from traditional side control\\nin side control the practitioner pins his opponent to the ground from the side of their torso the top grappler lies across the opponent with weight applied to the opponents chest the opponent may be further controlled by pressure on either side of the shoulders and hips from the practitioners elbows shoulders and knees a wide variety of submissions can be initiated from side control it is also referred to as the side mount and cem quilos a hundred kilograms in brazilian portuguese additionally the typical side mount increases opportunity for the top grappler to advance to other dominant positions this position is often used in mma as it allows the top fighter to strike whilst overcoming their opponents defense there are many variants of the side control position including kesa gatame standard side control reverse side control and other positions\\n\\nknee on belly position\\nmain article kneeonstomach\\nthe knee on belly position is a modified side pin that is distinctly separated from the side control position the knee on belly position is characterized primarily by the control of the opponent with one leg out for base and balance and the other leg positioned across the opponents torso pinning them to the ground this form of pin is a mobile pin rather than a static pin and is considered a more dominant position in many grappling formats the knee on belly position is worth additional points because it provides a greater striking platform than traditional side control and is closer to achieving the more ideal mounted position\\n\\nfull mount\\nmain article mount grappling\\n\\nfull mount is considered one of the most dominant grappling positions\\nin the mount or full mount position the practitioner sits astride the opponents front torso or chest controlling the opponent with his bodyweight and hips in the strongest form of this position the practitioner works his knees into the opponents armpits to reduce arm movements and ability to move or counter submission attempts full mount can be used to apply a variety of submissions including armlocks or chokes\\n\\nback mount\\nmain article back mount\\n\\nback mount also considered one of the most dominant positions in bjj\\nwhen taking the back mount position often known in brazilian jiujitsu as the back grab or attacking the back the practitioner attaches to the back of the opponent by wrapping his legs around and hooking the opponents thighs with their heel or locking in a body triangle by crossing one shin across the waist like a belt then placing the back of the opposing knee over the instep as if finishing a triangle choke simultaneously the upper body is controlled by wrapping the arms around the chest or neck of the opponent this position is often used to apply chokeholds as well as arm bars and triangles and neutralizes an opponents potential size or strength advantage\\n\\nnorth south position\\nthe north south position occurs when a practitioner is lying on their back on the ground and their opponent is lying on top with the head over the chest area and controlling the bottom practitioners arms as with most top controlling positions in bjj the top practitioner applies pressure by bringing their hips downwards towards the ground generating what is referred to as dead weight there are several submissions and transitions that are possible from the north south position most commonly the north south choke north south kimura and others\\n\\nguards\\nmain article guard grappling\\n\\nthe jiujitsu practitioner in blue is demonstrating a type of closed guard\\nwhen in the guard position the practitioner is on their back controlling an opponent with his legs the bottom practitioner pushes and pulls with the legs or feet to unbalance and limit the movements of his opponent this position allows practitioners a wide variety of counterattacks from the bottom position including submissions and sweeps\\n\\nthe three most common types of guards include the closed guard half guard and open guard\\n\\nin closed guard the bottom grappler has his legs around the opponents hips with ankles closed together to control their opponent the closed guard can be an effective position this guard allows many setups for submissions such as joint locks and chokes as well as sweeps in the open guard the legs are not hooked together and the bottom grappler uses his legs or feet to push or pull their opponent\\n\\nthere are many variations of open guard with distinct names and positioning including the butterfly guard de la riva guard xguard kguard rubber guard spider guard octopus guard lapel guard worm guard made popular by keenan cornelius and others butterfly guard is when the bottom grappler brings his legs up and feet together against the inner thighs of top opponent the name is derived from the resulting butterfly wing shape butterfly guard increases both space to maneuver and the ability to counter the opponent with the shins or arches of the feet against the competitors inner thighs spider guard is when the bottom grappler puts one or two of his feet on his opponents arms this guard is effective at keeping control on the bottom and can be used to set up sweeps or submissions\\n\\nin the half guard one of the top grapplers legs is controlled by the bottom grapplers legs preventing the top opponent from passing side control or full mount positions there is also a variant of half guard called  guard which consist of each opponent usually in sitting positions with one of their legs hooking the same leg of their opponent in a mirrored fashion this position is called  because neither opponent has a distinct advantage where both sides have the same possibilities of sweeps and attacks\\n\\nanother variation of the half guard position is the deep half guard which involves the bottom grappler positioning themselves underneath their opponent grabbing the top grapplers thigh this gives the individual on the bottom the opportunity to sweep their opponent and end up on a more dominant top position this position was popularized by american bjj black belt jeff glover\\n\\nthe de la riva guard dlr is an open guard technique in brazilian jiujitsu named after the renowned competitor ricardo de la riva while not an entirely new concept in grappling as it had origins in nonatei style judo credited to oda tsunetane it gained prominence through de la rivas use in brazilian jiujitsu the dlr guard is identified when a competitor lies on their back controlling their opponent with open legs this position is defined by one leg hooking outside the opponents leg eg the guard players left leg hooking the passers right leg thereby compromising the passers balance this outside hook is what distinguishes the dlr guard from other open guards the de la riva guard is pivotal in modern jiujitsu serving as a foundation for many advanced guard techniques developed since its introduction\\n\\nwrestling positions\\nwrestling freestyle grecoroman american folkstylecollegiate and others are having an impact on technique in brazilian jiujitsu whereas bjj focuses on positional points and submissions wrestling focuses on the shoulder pin wrestling techniques such as single leg and double leg take downs pins and attacks on turtle guard have made their way into competitive bjj particularly as nogi competitions have gained popularitycitation needed\\n\\nsubmissions\\nfor a list of list of brazilian jiujitsu techniques see list of brazilian jiujitsu techniques\\nthe majority of submission holds can be grouped into two broad categories joint locks and chokes joint locks typically involve isolating an opponents limb and creating a lever with the body position which will force the joint to move past its normal range of motion pressure is increased in a controlled manner and released if the opponent cannot escape the hold and signals defeat by tapping a choke hold can disrupt the blood supply to the brain and cause unconsciousness if the opponent does not tap when required\\n\\ncompression locks\\nsee also compression lock\\n\\na less common type of submission hold is a compression lock where the muscle of an opponent is compressed against a hard large bone commonly the shin or wrist causing significant pain to the opponent these types of locks are not usually allowed in competition due to the high risk of tearing muscle tissue this type of lock also often hyperextends the joint in the opposite direction pulling it apart some compression locks include the achilles lock biceps slicer and leg slicer or calf slicer\\n\\njoint locks\\n\\na practitioner attempting an armbar submission\\nwhile many joint locks are permitted in bjj most competitions ban or restrict some or all joint locks that involve the knees ankles and spine the reason for this is that the angles of manipulation required to cause pain are nearly the same as those that would cause serious injury joint locks that require a twisting motion of the knee such as heel hooks are usually banned in gi competitions because successfully completing the move can frequently result in permanent damage often requiring surgery similarly joint manipulations of the spine are typically barred due to the inherent danger of crushing or misaligning cervical vertebrae leglocks are allowed in varying degrees depending on skill level with the most prominent bjj tournaments typically allowing only the straight ankle lock and muscle stretching submissions such as the banana split from white through purple belt with the kneebar toehold and calf slicer submissions being permitted at brown and black belt heel hooks and kneereaping are illegal in gi bjj since they are considered to be exceptionally dangerous techniques but are allowed by ibjjf rules in nogi competitions most joint locks involving the wrist elbow shoulder or ankle are permitted as there is a great deal more flexibility in those joints and those locks are usually safe\\n\\njoint locks include armbars kimuras americanas straightarm lock omoplata marceloplata banana split or electric chair twister wrist lock heel hook toehold kneebar straight ankle lock and others\\n\\nchokes\\n\\na rear naked choke or mataleo in brazilian portuguese lion killer choke as demonstrated by a mcmap instructor\\nchokes are common forms of submission in bjj the chokes that are used put pressure on the carotid arteries and may also apply pressure to the nerve baroreceptors in the neck this kind of choke is very fast acting if done properly with victims typically losing consciousness in around  seconds in contrast an air choke involving constriction of the windpipe can take up to two minutes depending on how long the person can hold their breath and may cause serious damage to the throat\\n\\nchokes include rearnaked choke bow and arrow choke triangle guillotine choke sleeve choke or ezekiel choke cross collar choke or x choke baseball choke clock choke darce choke anaconda choke arm triangle choke northsouth choke crucifix choke gogoplata loop choke lapel half nelson choke and others\\n\\nuniform\\nmain article brazilian jiujitsu gi\\nthe brazilian jiujitsu practitioners uniform is commonly referred to as gi or kimono is similar to a judogi but with slight differences in the dimensions and often made of lighter material with tighter cuffs on the pants and jacket this allows the practitioner to benefit from a closer fit providing less material for an opponent to manipulate traditionally to be promoted in brazilian jiujitsu the wearing of the jiujitsu gi while training is a requirement recently with the growing popularity of nogi brazilian jiujitsu has the practice of giving out belts to nogi practitioners eg rolles gracie awarding rashad evans a black belt has become more common\\n\\nthere are certain differences between gi jiujitsu and nogi jiujitsu in gi jiujitsu one can grip an opponents uniform using it to submit or advance position there are a number of submissions that are specific to the gi such as the loop choke collar choke and others a specific set of rules to guide nogi competitions is issued by the ibjjf but there may be variation in the set of rules applied in each competition by ibjjf rules uniform grips are not permitted in nogi jiujitsu bjj athletes who practice nogi usually wear a rash guard and mma shorts or spats\\n\\ngrading\\nblack belt grades\\n and over\\nblack \\t\\nblackred \\t\\nredwhite \\t\\nred \\t\\nsenior belt colours\\n and over\\nwhite\\t\\nblue\\t\\npurple\\t\\nbrown\\t\\njunior belt colours\\n and under\\nwhite\\t\\ngrey\\t\\nyellow\\t\\norange\\t\\ngreen\\t\\nmain articles brazilian jiujitsu ranking system and gracie jiujitsu ranking system\\nthe brazilian jiujitsu ranking system awards a practitioner different coloured belts to signify increasing levels of technical knowledge and practical skill while the systems structure shares its origins with the judo ranking system and the origins of all coloured belts it now contains many of its own unique aspects and themes some of these differences are relatively minor such as the division between youth and adult belts and the stripedegree system others are quite distinct and have become synonymous with the art such as a higher degree of informality in promotional criteria a focus on competitive demonstration of skill and a conservative approach to promotion in general\\n\\ntraditionally the concept of competitive skill demonstration as a quickened and earned route of promotion holds true some schools have placed a green belt for adults between the white and blue belt ranks due to the long periods between advancement in addition the use of a grey belt has been instituted for many childrens programs to signal progress between the white and yellow belt rankings\\n\\na black belt in brazilian jiujitsu commonly takes more than several years to earn and the rank is generally considered expert level the amount of time it takes to achieve the rank of black belt varies between the practitioner some notable individuals who had previous backgrounds in other martial arts have been promoted directly to black belt rank without going through any intermediate rank though this has fallen out of favour in recent times others have achieved the rank in relatively short time frames outside of exceptions such as these the average time frame is around  years with a consistent training schedule however ryron gracie grandsongrandnephew of founders hlio and carlos gracie has stated that the average of  years is longer than necessary suggesting that the ego of the practitioner often hinders progress and advancement to black belt should take about  years\\n\\nfederations\\nsince its inception brazilian jiujitsu has had different registered federations and tournaments the first jiujitsu federation was the jiujitsu federation of guanabara which has remained a regional federation of rio de janeiro while many others were founded among the most prestigious of the many federations are the sport jiu jitsu international federation sjjif a nonprofit organization with federations and tournaments around the globe with the mission of making jiujitsu an olympic sport the international brazilian jiujitsu federation a forprofit organization that hosts a number of tournaments and jjgf founded by rickson gracie which has focus on both bjj as selfdefense and as a sport\\n\\nweight classes\\nmain article brazilian jiujitsu weight classes\\nthe weight classes for bjj competitions can differ depending on the organisation that is promoting the event the ibjjf weight classes are the most commonly used under the ibjjf rules the weight classes vary by age sex and competition type gi vs nogi\\n\\nibjjf adultsmasters weight classes\\nweight divisions\\tadultsmasters gi  male\\tadultsmasters no gi  male\\tadultsmasters gi  female\\tadultsmasters no gi  female\\nrooster\\ngalo\\t kg  lb\\t kg  lb\\t kg  lb\\t kg  lb\\nlight feather\\npluma\\t kg  lb\\t kg  lb\\t kg  lb\\t kg  lb\\nfeather\\npena\\t kg  lb\\t kg  lb\\t kg  lb\\t kg  lb\\nlight\\nleve\\t kg  lb\\t kg  lb\\t kg  lb\\t kg  lb\\nmiddle\\nmdio\\t kg  lb\\t kg  lb\\t kg  lb\\t kg  lb\\nmedium heavy\\nmeiopesado\\t kg  lb\\t kg  lb\\t kg  lb\\t kg  lb\\nheavy\\npesado\\t kg  lb\\t kg  lb\\t kg  lb\\t kg  lb\\nsuper heavy\\nsuper pesado\\t kg  lb\\t kg  lb\\tno weight limit\\tno weight limit\\nultra heavy\\npesadissimo\\tno weight limit\\tno weight limit\\tna\\tna\\nopen class\\nabsoluto\\topen to all weight divisions\\topen to all weight divisions\\topen to all weight divisions\\topen to all weight divisions\\ntournaments\\nwhile there are numerous local and regional tournaments administered regularly by private individuals and academies there are two major entities in jiujitsu circles first is the sport jiu jitsu international federation sjjif a nonprofit organization with international federations and tournaments second is the international brazilian jiujitsu federation ibjjf a forprofit company that hosts a number of major tournaments worldwide these include the pan american championship european championship and the mundials california new york and texas are the three states in the us which host tournaments most frequently other promotions within north america such as battleground grappling championship american grappling federation agf north american bjj federation nabjjf and north american grappling association naga host tournaments nationwide but visit these states multiple times within a tournament season\\n\\nanother tournament to spring from the founding gracie lineage is the gracie nationals or gracie worlds founded in  by rose gracie daughter of ultimate fighting championship creator and brazilian jiujitsu grandmaster rorion gracie gracie nationalsworlds followed the guidelines of other major tournaments of the time implementing a points systems\\n\\nin  the gracie worlds introduced a new submissiononly format removing certain judging systems that many interpreted as an outdated scoring system rose spoke about this change when she said todays tournaments arent what my grandfather helio gracie envisioned theres so many rules that it takes away from the actual art of jiujitsu we dont see many submissions we see cheating we see decisions made by a referee we need to stand together against this and support a submission only kind of revolution cheating in jiujitsu rose said comes in many forms a competitor will earn a point then hold for the entire match so they can win with that one little advantage they got at the start rose said thats not jiujitsu thats cheating mark mcdonnell from gracie botany agrees\\n\\nthis discontent with pointsbased and advantagestyle competition has been echoed throughout the jiujitsu community leading to many prominent submissiononly style events at these events the winner of a match is determined only by submission and these tournaments at times have no time limit or are timed with a result of double disqualification if there is no submission victory this form of tournament have yet to become widespread but is gaining in popularity especially amongst mma competitors metamoris a grappling competition event run by roses brother ralek gracie has helped advocate this tournament form another notable example of a submissiononly format is the ebi eddie bravo invitational which was the first televised event of its kind and is now being featured on ufc fight pass other submissiononly events have cropped up all over the world including tuff invitational polaris pro grappling based in the united kingdom submission underground backed by longtime mma star chael sonnen and the quintet promotion devised by japanese mma legend kazushi sakuraba and based around teams of five players each representing a different gym or background\\n\\nat tournaments especially those hosted by the international brazilian jiujitsu federation ibjjf some athletes engage in a practice called closing out this occurs when two athletes usually friends or members of the same team meet in a match but refuse to fight tournament organizers can minimize the chance of closeouts by placing athletes from the same team on opposite sides of the bracket a practice which makes the finals the only match in which they could possibly meet assuming each team has no more than two competitors in a given bracket when two athletes close out a match they agree which one of them will technically forfeit to the other as this most often occurs in the final matches of tournaments this usually means deciding which of the two will win the gold medal and which will win the silver notable examples of closing out include marcus buchecha almeida forfeiting the finals of the absolute division at the  ibjjf world championship to his friend leandro lo who had suffered a shoulder injury during a previous match and frequent close outs between the brothers paulo and joao miyao who often compete in the same weight division proponents of closeouts claim it fosters team unity and allows competitors to train as hard and as freely as they can with their teammates they say that facing a teammate in a competition would make them hold back in training critics of the practice say it diminishes audience enjoyment of tournaments where it is allowed and some tournaments notably the adcc ban it\\n\\nhealth considerations\\nsafety\\nbrazilian jiujitsu is one of the safest full contact martial arts its injury rate is around  per  athlete exposures this is lower than in mixed martial arts  per  boxing  per  judo  per  and taekwondo  per  it is similar to wrestling which also uses grappling instead of striking the few injuries that may be incurred in brazilian jiujitsu usually affect the joints and rarely the head the most common injuries brazilian jiujitsu practitioners suffer from are acl tears rotator cuff tears in the shoulders and spinal disc herniations most commonly in the neck region many are repairable via surgery that require an extended rehab period before the athlete can return to bjj training also many athletes suffer from minor injuries such as elbow finger and wrist tendonitis due to overtraining and the grappling nature of the martial art which can be strenuous and taxing for the joints and the tendons\\n\\nskin health\\nbesides the normal strains and pulls associated with most martial arts brazilian jiujitsu practitioners along with wrestlers judoka and other grapplers are exposed to regular skin abrasions and potential unsanitary mat conditions they are thus at higher risk for developing skin disease several commonly contracted skin diseases include ringworm impetigo herpes gladiatorum and staph infection proper hygiene practices including regular cleaning of classroom mats showering immediately after class with soap disinfecting and covering any open wounds thorough cleaning of any girashguardheadgear used before the next class not sharing used towelsuniforms and using a barrier cream greatly reduces the chance of contracting a disease\\n\\ncauliflower ear\\n\\ndominick cruzs cauliflower ears\\ndue to the use of the head to maintain position and attack in jiujitsu the ears can easily be damaged and begin to swell without immediate medical treatment the cartilage in a swollen ear will separate from the perichondrium that supplies its nutrients and will become permanently swollendeformed cauliflower ear wrestling headgear is sometimes used for the prevention of this condition treatment includes draining the hematoma or surgery\\n\\nperformanceenhancing drugs\\nthe practice of taking performanceenhancing drugs including anabolic steroids is believed to be relatively commonplace among competitors in jiujitsu tournaments and has sparked letters and public statements by some of jiujitsus top competitors including rodrigo medeiros and caio terra in response the ibjjf began testing for performanceenhancing drugs at ibjjf sponsored events starting with the  pan american championship however most other tournaments tend to lack ped testing\\n\\ncervical and spinal lock neck cranks\\na spinal lock is a multiple joint lock applied to the spinal column which is performed by forcing the spine beyond its normal ranges of motion this is typically done by bending or twisting the head or upper body into abnormal positions commonly spinal locks might strain the spinal musculature or result in a mild spinal sprain while a forcefully andor suddenly applied spinal lock may cause severe ligament damage or damage to the vertebrae and possibly result in serious spinal cord injury strokes or death spinal locks and cervical locks are forbidden in gi jiujitsu amateur mma multiple forms of nogi jiujitsu judo and other martial arts due to its illegal nature and express purpose to cause serious irrevocable bodily injury paralysis and death the forceful application of chokes such as the rear naked choke and subsequent cranking of the neck whilst being choked can potentially lead to arterial dissection which could lead to stroke due care should be exercised when applying these chokes in sparring situations\\n\\nelbow injuries\\nelbow injuries commonly occur from arm bars kimuras and takedowns with a fall on outstretched hand foosh these injuries include lcl sprain of elbow mcl sprain of elbow anterior sprain of distal biceps tendon elbow dislocation and posterior tenderness at olecranon\\n\\nknee injuries\\nknee injuries occur from passing guard takedowns sweeps direct pressure and various stress with flexed knee these injuries include lcl sprain of knee mcl sprain of knee and lateral meniscus tear\\n\\nfoot and ankle injuries\\nfoot and ankle injuries occur from pushing forward takedowns and footlocks these injuries include ankle atfl sprain turf toe and hyper flexion sprain of great toe\\n\\nfinger injuries\\nfinger injuries occur from getting caught in the gi applying arm bars and blocking opponents these injuries include sprains dislocations and fractures\\n\\nshoulder injuries\\nshoulder injuries occur from kimuras takedowns with a fall on outstretched hand foosh and pushing opponents these injuries include acromioclavicular separation anterior dislocation and anterior subluxation partial dislocation\\n\\nneck injuries\\nneck injuries can occur from triangle chokes and resisting them these injuries include cervical strains\\n\\nrehab\\ndepending on the severity many injuries require evaluation by a professional usually a primary care provider sports medicine physician orthopedic surgeon or physical therapist other injuries may be treated with a home exercise program']\n"
     ]
    }
   ],
   "source": [
    "# Sentences Tokenization\n",
    "sentences = nltk.sent_tokenize(cleaned_text)\n",
    "print(sentences)"
   ]
  },
  {
   "cell_type": "markdown",
   "id": "c77366df",
   "metadata": {},
   "source": [
    "#### 5. Stopword Removal"
   ]
  },
  {
   "cell_type": "code",
   "execution_count": 103,
   "id": "1ccd9d5f",
   "metadata": {},
   "outputs": [
    {
     "name": "stdout",
     "output_type": "stream",
     "text": [
      "{'am', 'haven', 'won', \"it's\", 'don', 'our', \"weren't\", \"you'll\", 'its', 'how', \"haven't\", \"hasn't\", 'just', 'theirs', 'being', 'o', 'shouldn', \"you're\", 'yours', \"wouldn't\", 'myself', 'very', 'once', \"hadn't\", 'down', 'your', 'during', 'ourselves', 'for', 'are', 'off', 'to', 'hers', 'their', 'is', \"shouldn't\", 'all', \"didn't\", 'out', 'there', 'y', 'you', 'whom', 'between', 'she', 'have', 'same', 'what', 'him', 'was', 'needn', 'had', 'own', 'can', 'too', 'any', 'the', 'those', 'couldn', 'them', 'm', 're', 't', 'herself', 'until', \"mightn't\", 'me', 'as', 'but', 'her', 'more', 'here', 'll', \"isn't\", \"couldn't\", 'himself', 'ours', 'who', 'up', 'through', 'ma', 've', 'under', 'of', 'with', 'we', 'not', 'that', 'an', 'ain', 'if', 'about', 'why', 'such', \"aren't\", \"needn't\", 'itself', \"won't\", 'each', 'he', 'hasn', 'be', \"you'd\", 'below', 's', \"she's\", 'now', 'themselves', 'nor', 'or', 'into', 'mustn', 'i', \"wasn't\", 'than', 'after', 'in', 'having', 'will', 'mightn', 'his', 'it', 'didn', 'from', \"shan't\", 'because', 'should', 'most', \"should've\", 'doesn', 'above', 'on', 'd', 'do', 'some', 'before', \"mustn't\", 'no', 'at', \"don't\", 'a', 'so', 'few', 'wasn', 'yourself', 'weren', 'were', 'only', 'these', 'further', 'both', 'my', 'yourselves', 'while', 'then', 'again', 'when', 'other', 'wouldn', 'this', 'against', 'and', 'does', \"that'll\", 'has', \"doesn't\", 'shan', 'isn', 'which', 'over', 'did', 'doing', 'hadn', \"you've\", 'by', 'been', 'where', 'aren', 'they'}\n"
     ]
    }
   ],
   "source": [
    "# Initialize the stop words - English language\n",
    "\n",
    "stop_words = set(stopwords.words(\"english\"))\n",
    "print(stop_words)"
   ]
  },
  {
   "cell_type": "code",
   "execution_count": 104,
   "id": "35019fae",
   "metadata": {},
   "outputs": [
    {
     "name": "stdout",
     "output_type": "stream",
     "text": [
      "['brazilian', 'jiujitsu', 'article', 'talk', 'read', 'edit', 'view', 'history', 'tools', 'appearance', 'hide', 'text', 'small', 'standard', 'large', 'width', 'standard', 'wide', 'color', 'beta', 'automatic', 'light', 'dark', 'wikipedia', 'free', 'encyclopedia', 'bjj', 'redirects', 'uses', 'see', 'bjj', 'disambiguation', 'gracie', 'jiujitsu', 'redirects', 'book', 'helio', 'gracie', 'see', 'gracie', 'jiujitsu', 'book', 'brazilian', 'jiujitsu', 'romulo', 'barral', 'attempting', 'triangle', 'choke', 'gabriel', 'vella', 'world', 'jiujitsu', 'championship', 'also', 'known', 'bjj', 'gracie', 'jiujitsu', 'ginogi', 'jiujitsu', 'submission', 'grappling', 'portuguese', 'name', 'jiujitsu', 'brasileiro', 'japanese', 'name', 'burajirian', 'jjutsu', 'focus', 'ground', 'fighting', 'submission', 'grappling', 'hardness', 'full', 'contact', 'country', 'origin', 'brazil', 'creator', 'mataemon', 'tanabe', 'senjuro', 'kataoka', 'taro', 'miyake', 'yukio', 'tani', 'sada', 'miyako', 'geo', 'omori', 'mitsuyo', 'maeda', 'takeo', 'yano', 'soshihiro']\n"
     ]
    }
   ],
   "source": [
    "# Removing the stop words from the text\n",
    "\n",
    "filtered_words = [word for word in words if word not in stop_words]\n",
    "print(filtered_words[:100])"
   ]
  },
  {
   "cell_type": "markdown",
   "id": "6d74edc3",
   "metadata": {},
   "source": [
    "#### 6. Stemming"
   ]
  },
  {
   "cell_type": "code",
   "execution_count": 105,
   "id": "803bc362",
   "metadata": {},
   "outputs": [],
   "source": [
    "# Initialize the Stemmer\n",
    "\n",
    "stemmer = PorterStemmer()"
   ]
  },
  {
   "cell_type": "code",
   "execution_count": 106,
   "id": "ee9a6ae2",
   "metadata": {},
   "outputs": [
    {
     "name": "stdout",
     "output_type": "stream",
     "text": [
      "['brazilian', 'jiujitsu', 'articl', 'talk', 'read', 'edit', 'view', 'histori', 'tool', 'appear', 'hide', 'text', 'small', 'standard', 'larg', 'width', 'standard', 'wide', 'color', 'beta', 'automat', 'light', 'dark', 'wikipedia', 'free', 'encyclopedia', 'bjj', 'redirect', 'use', 'see', 'bjj', 'disambigu', 'graci', 'jiujitsu', 'redirect', 'book', 'helio', 'graci', 'see', 'graci', 'jiujitsu', 'book', 'brazilian', 'jiujitsu', 'romulo', 'barral', 'attempt', 'triangl', 'choke', 'gabriel', 'vella', 'world', 'jiujitsu', 'championship', 'also', 'known', 'bjj', 'graci', 'jiujitsu', 'ginogi', 'jiujitsu', 'submiss', 'grappl', 'portugues', 'name', 'jiujitsu', 'brasileiro', 'japanes', 'name', 'burajirian', 'jjutsu', 'focu', 'ground', 'fight', 'submiss', 'grappl', 'hard', 'full', 'contact', 'countri', 'origin', 'brazil', 'creator', 'mataemon', 'tanab', 'senjuro', 'kataoka', 'taro', 'miyak', 'yukio', 'tani', 'sada', 'miyako', 'geo', 'omori', 'mitsuyo', 'maeda', 'takeo', 'yano', 'soshihiro']\n"
     ]
    }
   ],
   "source": [
    "# Stemming the words in filtered_words\n",
    "\n",
    "stemmed_words = [stemmer.stem(word) for word in filtered_words]\n",
    "print(stemmed_words[:100])"
   ]
  },
  {
   "cell_type": "markdown",
   "id": "b0bac570",
   "metadata": {},
   "source": [
    "#### Lemmatization\n",
    "\n",
    "##### Lemmatization with NLTK"
   ]
  },
  {
   "cell_type": "code",
   "execution_count": 107,
   "id": "e5cdb62c",
   "metadata": {},
   "outputs": [],
   "source": [
    "# Initialize the Lemmatizer\n",
    "\n",
    "lemmatizer = WordNetLemmatizer()"
   ]
  },
  {
   "cell_type": "code",
   "execution_count": 108,
   "id": "a42796bd",
   "metadata": {},
   "outputs": [
    {
     "name": "stdout",
     "output_type": "stream",
     "text": [
      "['brazilian', 'jiujitsu', 'article', 'talk', 'read', 'edit', 'view', 'history', 'tool', 'appearance', 'hide', 'text', 'small', 'standard', 'large', 'width', 'standard', 'wide', 'color', 'beta', 'automatic', 'light', 'dark', 'wikipedia', 'free', 'encyclopedia', 'bjj', 'redirects', 'us', 'see', 'bjj', 'disambiguation', 'gracie', 'jiujitsu', 'redirects', 'book', 'helio', 'gracie', 'see', 'gracie', 'jiujitsu', 'book', 'brazilian', 'jiujitsu', 'romulo', 'barral', 'attempting', 'triangle', 'choke', 'gabriel', 'vella', 'world', 'jiujitsu', 'championship', 'also', 'known', 'bjj', 'gracie', 'jiujitsu', 'ginogi', 'jiujitsu', 'submission', 'grappling', 'portuguese', 'name', 'jiujitsu', 'brasileiro', 'japanese', 'name', 'burajirian', 'jjutsu', 'focus', 'ground', 'fighting', 'submission', 'grappling', 'hardness', 'full', 'contact', 'country', 'origin', 'brazil', 'creator', 'mataemon', 'tanabe', 'senjuro', 'kataoka', 'taro', 'miyake', 'yukio', 'tani', 'sada', 'miyako', 'geo', 'omori', 'mitsuyo', 'maeda', 'takeo', 'yano', 'soshihiro']\n"
     ]
    }
   ],
   "source": [
    "lemmatized_words = [lemmatizer.lemmatize(word) for word in filtered_words]\n",
    "print(lemmatized_words[0:100])"
   ]
  },
  {
   "cell_type": "markdown",
   "id": "225c396a",
   "metadata": {},
   "source": [
    "##### Lemmatization with spacy"
   ]
  },
  {
   "cell_type": "code",
   "execution_count": 109,
   "id": "dea4fa4b",
   "metadata": {},
   "outputs": [
    {
     "name": "stdout",
     "output_type": "stream",
     "text": [
      "Requirement already satisfied: spacy in c:\\users\\todor\\anaconda3\\lib\\site-packages (3.7.6)\n",
      "Requirement already satisfied: requests<3.0.0,>=2.13.0 in c:\\users\\todor\\anaconda3\\lib\\site-packages (from spacy) (2.28.1)\n",
      "Requirement already satisfied: packaging>=20.0 in c:\\users\\todor\\anaconda3\\lib\\site-packages (from spacy) (21.3)\n",
      "Requirement already satisfied: wasabi<1.2.0,>=0.9.1 in c:\\users\\todor\\anaconda3\\lib\\site-packages (from spacy) (1.1.3)\n",
      "Requirement already satisfied: catalogue<2.1.0,>=2.0.6 in c:\\users\\todor\\anaconda3\\lib\\site-packages (from spacy) (2.0.10)\n",
      "Requirement already satisfied: thinc<8.3.0,>=8.2.2 in c:\\users\\todor\\anaconda3\\lib\\site-packages (from spacy) (8.2.5)\n",
      "Requirement already satisfied: spacy-legacy<3.1.0,>=3.0.11 in c:\\users\\todor\\anaconda3\\lib\\site-packages (from spacy) (3.0.12)\n",
      "Requirement already satisfied: spacy-loggers<2.0.0,>=1.0.0 in c:\\users\\todor\\anaconda3\\lib\\site-packages (from spacy) (1.0.5)\n",
      "Requirement already satisfied: numpy>=1.19.0 in c:\\users\\todor\\anaconda3\\lib\\site-packages (from spacy) (1.21.5)\n",
      "Requirement already satisfied: tqdm<5.0.0,>=4.38.0 in c:\\users\\todor\\anaconda3\\lib\\site-packages (from spacy) (4.64.1)\n",
      "Requirement already satisfied: weasel<0.5.0,>=0.1.0 in c:\\users\\todor\\anaconda3\\lib\\site-packages (from spacy) (0.4.1)\n",
      "Requirement already satisfied: murmurhash<1.1.0,>=0.28.0 in c:\\users\\todor\\anaconda3\\lib\\site-packages (from spacy) (1.0.10)\n",
      "Requirement already satisfied: setuptools in c:\\users\\todor\\anaconda3\\lib\\site-packages (from spacy) (63.4.1)\n",
      "Requirement already satisfied: typer<1.0.0,>=0.3.0 in c:\\users\\todor\\anaconda3\\lib\\site-packages (from spacy) (0.12.5)\n",
      "Requirement already satisfied: langcodes<4.0.0,>=3.2.0 in c:\\users\\todor\\anaconda3\\lib\\site-packages (from spacy) (3.4.0)\n",
      "Requirement already satisfied: preshed<3.1.0,>=3.0.2 in c:\\users\\todor\\anaconda3\\lib\\site-packages (from spacy) (3.0.9)\n",
      "Requirement already satisfied: srsly<3.0.0,>=2.4.3 in c:\\users\\todor\\anaconda3\\lib\\site-packages (from spacy) (2.4.8)\n",
      "Requirement already satisfied: pydantic!=1.8,!=1.8.1,<3.0.0,>=1.7.4 in c:\\users\\todor\\anaconda3\\lib\\site-packages (from spacy) (2.9.1)\n",
      "Requirement already satisfied: cymem<2.1.0,>=2.0.2 in c:\\users\\todor\\anaconda3\\lib\\site-packages (from spacy) (2.0.8)\n",
      "Requirement already satisfied: jinja2 in c:\\users\\todor\\anaconda3\\lib\\site-packages (from spacy) (2.11.3)\n",
      "Requirement already satisfied: language-data>=1.2 in c:\\users\\todor\\anaconda3\\lib\\site-packages (from langcodes<4.0.0,>=3.2.0->spacy) (1.2.0)\n",
      "Requirement already satisfied: pyparsing!=3.0.5,>=2.0.2 in c:\\users\\todor\\anaconda3\\lib\\site-packages (from packaging>=20.0->spacy) (3.0.9)\n",
      "Requirement already satisfied: pydantic-core==2.23.3 in c:\\users\\todor\\anaconda3\\lib\\site-packages (from pydantic!=1.8,!=1.8.1,<3.0.0,>=1.7.4->spacy) (2.23.3)\n",
      "Requirement already satisfied: annotated-types>=0.6.0 in c:\\users\\todor\\anaconda3\\lib\\site-packages (from pydantic!=1.8,!=1.8.1,<3.0.0,>=1.7.4->spacy) (0.7.0)\n",
      "Requirement already satisfied: typing-extensions>=4.6.1 in c:\\users\\todor\\anaconda3\\lib\\site-packages (from pydantic!=1.8,!=1.8.1,<3.0.0,>=1.7.4->spacy) (4.12.2)\n",
      "Requirement already satisfied: urllib3<1.27,>=1.21.1 in c:\\users\\todor\\anaconda3\\lib\\site-packages (from requests<3.0.0,>=2.13.0->spacy) (1.26.11)\n",
      "Requirement already satisfied: certifi>=2017.4.17 in c:\\users\\todor\\anaconda3\\lib\\site-packages (from requests<3.0.0,>=2.13.0->spacy) (2022.9.14)\n",
      "Requirement already satisfied: charset-normalizer<3,>=2 in c:\\users\\todor\\anaconda3\\lib\\site-packages (from requests<3.0.0,>=2.13.0->spacy) (2.0.4)\n",
      "Requirement already satisfied: idna<4,>=2.5 in c:\\users\\todor\\anaconda3\\lib\\site-packages (from requests<3.0.0,>=2.13.0->spacy) (3.3)\n",
      "Requirement already satisfied: confection<1.0.0,>=0.0.1 in c:\\users\\todor\\anaconda3\\lib\\site-packages (from thinc<8.3.0,>=8.2.2->spacy) (0.1.5)\n",
      "Requirement already satisfied: blis<0.8.0,>=0.7.8 in c:\\users\\todor\\anaconda3\\lib\\site-packages (from thinc<8.3.0,>=8.2.2->spacy) (0.7.11)\n",
      "Requirement already satisfied: colorama in c:\\users\\todor\\anaconda3\\lib\\site-packages (from tqdm<5.0.0,>=4.38.0->spacy) (0.4.6)\n",
      "Requirement already satisfied: click>=8.0.0 in c:\\users\\todor\\anaconda3\\lib\\site-packages (from typer<1.0.0,>=0.3.0->spacy) (8.0.4)\n",
      "Requirement already satisfied: rich>=10.11.0 in c:\\users\\todor\\anaconda3\\lib\\site-packages (from typer<1.0.0,>=0.3.0->spacy) (13.8.1)\n",
      "Requirement already satisfied: shellingham>=1.3.0 in c:\\users\\todor\\anaconda3\\lib\\site-packages (from typer<1.0.0,>=0.3.0->spacy) (1.5.4)\n",
      "Requirement already satisfied: cloudpathlib<1.0.0,>=0.7.0 in c:\\users\\todor\\anaconda3\\lib\\site-packages (from weasel<0.5.0,>=0.1.0->spacy) (0.19.0)\n",
      "Requirement already satisfied: smart-open<8.0.0,>=5.2.1 in c:\\users\\todor\\anaconda3\\lib\\site-packages (from weasel<0.5.0,>=0.1.0->spacy) (5.2.1)\n",
      "Requirement already satisfied: MarkupSafe>=0.23 in c:\\users\\todor\\anaconda3\\lib\\site-packages (from jinja2->spacy) (2.0.1)\n",
      "Requirement already satisfied: marisa-trie>=0.7.7 in c:\\users\\todor\\anaconda3\\lib\\site-packages (from language-data>=1.2->langcodes<4.0.0,>=3.2.0->spacy) (1.2.0)\n",
      "Requirement already satisfied: pygments<3.0.0,>=2.13.0 in c:\\users\\todor\\anaconda3\\lib\\site-packages (from rich>=10.11.0->typer<1.0.0,>=0.3.0->spacy) (2.18.0)\n",
      "Requirement already satisfied: markdown-it-py>=2.2.0 in c:\\users\\todor\\anaconda3\\lib\\site-packages (from rich>=10.11.0->typer<1.0.0,>=0.3.0->spacy) (3.0.0)\n",
      "Requirement already satisfied: mdurl~=0.1 in c:\\users\\todor\\anaconda3\\lib\\site-packages (from markdown-it-py>=2.2.0->rich>=10.11.0->typer<1.0.0,>=0.3.0->spacy) (0.1.2)\n"
     ]
    }
   ],
   "source": [
    "# Download the spacy package\n",
    "\n",
    "!pip install spacy"
   ]
  },
  {
   "cell_type": "code",
   "execution_count": 110,
   "id": "2f6f8f7b",
   "metadata": {},
   "outputs": [
    {
     "name": "stdout",
     "output_type": "stream",
     "text": [
      "Collecting en-core-web-sm==3.7.1\n",
      "  Downloading https://github.com/explosion/spacy-models/releases/download/en_core_web_sm-3.7.1/en_core_web_sm-3.7.1-py3-none-any.whl (12.8 MB)\n",
      "     --------------------------------------- 12.8/12.8 MB 16.8 MB/s eta 0:00:00\n",
      "Requirement already satisfied: spacy<3.8.0,>=3.7.2 in c:\\users\\todor\\anaconda3\\lib\\site-packages (from en-core-web-sm==3.7.1) (3.7.6)\n",
      "Requirement already satisfied: srsly<3.0.0,>=2.4.3 in c:\\users\\todor\\anaconda3\\lib\\site-packages (from spacy<3.8.0,>=3.7.2->en-core-web-sm==3.7.1) (2.4.8)\n",
      "Requirement already satisfied: weasel<0.5.0,>=0.1.0 in c:\\users\\todor\\anaconda3\\lib\\site-packages (from spacy<3.8.0,>=3.7.2->en-core-web-sm==3.7.1) (0.4.1)\n",
      "Requirement already satisfied: cymem<2.1.0,>=2.0.2 in c:\\users\\todor\\anaconda3\\lib\\site-packages (from spacy<3.8.0,>=3.7.2->en-core-web-sm==3.7.1) (2.0.8)\n",
      "Requirement already satisfied: spacy-loggers<2.0.0,>=1.0.0 in c:\\users\\todor\\anaconda3\\lib\\site-packages (from spacy<3.8.0,>=3.7.2->en-core-web-sm==3.7.1) (1.0.5)\n",
      "Requirement already satisfied: jinja2 in c:\\users\\todor\\anaconda3\\lib\\site-packages (from spacy<3.8.0,>=3.7.2->en-core-web-sm==3.7.1) (2.11.3)\n",
      "Requirement already satisfied: requests<3.0.0,>=2.13.0 in c:\\users\\todor\\anaconda3\\lib\\site-packages (from spacy<3.8.0,>=3.7.2->en-core-web-sm==3.7.1) (2.28.1)\n",
      "Requirement already satisfied: thinc<8.3.0,>=8.2.2 in c:\\users\\todor\\anaconda3\\lib\\site-packages (from spacy<3.8.0,>=3.7.2->en-core-web-sm==3.7.1) (8.2.5)\n",
      "Requirement already satisfied: pydantic!=1.8,!=1.8.1,<3.0.0,>=1.7.4 in c:\\users\\todor\\anaconda3\\lib\\site-packages (from spacy<3.8.0,>=3.7.2->en-core-web-sm==3.7.1) (2.9.1)\n",
      "Requirement already satisfied: numpy>=1.19.0 in c:\\users\\todor\\anaconda3\\lib\\site-packages (from spacy<3.8.0,>=3.7.2->en-core-web-sm==3.7.1) (1.21.5)\n",
      "Requirement already satisfied: catalogue<2.1.0,>=2.0.6 in c:\\users\\todor\\anaconda3\\lib\\site-packages (from spacy<3.8.0,>=3.7.2->en-core-web-sm==3.7.1) (2.0.10)\n",
      "Requirement already satisfied: wasabi<1.2.0,>=0.9.1 in c:\\users\\todor\\anaconda3\\lib\\site-packages (from spacy<3.8.0,>=3.7.2->en-core-web-sm==3.7.1) (1.1.3)\n",
      "Requirement already satisfied: packaging>=20.0 in c:\\users\\todor\\anaconda3\\lib\\site-packages (from spacy<3.8.0,>=3.7.2->en-core-web-sm==3.7.1) (21.3)\n",
      "Requirement already satisfied: setuptools in c:\\users\\todor\\anaconda3\\lib\\site-packages (from spacy<3.8.0,>=3.7.2->en-core-web-sm==3.7.1) (63.4.1)\n",
      "Requirement already satisfied: spacy-legacy<3.1.0,>=3.0.11 in c:\\users\\todor\\anaconda3\\lib\\site-packages (from spacy<3.8.0,>=3.7.2->en-core-web-sm==3.7.1) (3.0.12)\n",
      "Requirement already satisfied: langcodes<4.0.0,>=3.2.0 in c:\\users\\todor\\anaconda3\\lib\\site-packages (from spacy<3.8.0,>=3.7.2->en-core-web-sm==3.7.1) (3.4.0)\n",
      "Requirement already satisfied: tqdm<5.0.0,>=4.38.0 in c:\\users\\todor\\anaconda3\\lib\\site-packages (from spacy<3.8.0,>=3.7.2->en-core-web-sm==3.7.1) (4.64.1)\n",
      "Requirement already satisfied: typer<1.0.0,>=0.3.0 in c:\\users\\todor\\anaconda3\\lib\\site-packages (from spacy<3.8.0,>=3.7.2->en-core-web-sm==3.7.1) (0.12.5)\n",
      "Requirement already satisfied: murmurhash<1.1.0,>=0.28.0 in c:\\users\\todor\\anaconda3\\lib\\site-packages (from spacy<3.8.0,>=3.7.2->en-core-web-sm==3.7.1) (1.0.10)\n",
      "Requirement already satisfied: preshed<3.1.0,>=3.0.2 in c:\\users\\todor\\anaconda3\\lib\\site-packages (from spacy<3.8.0,>=3.7.2->en-core-web-sm==3.7.1) (3.0.9)\n",
      "Requirement already satisfied: language-data>=1.2 in c:\\users\\todor\\anaconda3\\lib\\site-packages (from langcodes<4.0.0,>=3.2.0->spacy<3.8.0,>=3.7.2->en-core-web-sm==3.7.1) (1.2.0)\n",
      "Requirement already satisfied: pyparsing!=3.0.5,>=2.0.2 in c:\\users\\todor\\anaconda3\\lib\\site-packages (from packaging>=20.0->spacy<3.8.0,>=3.7.2->en-core-web-sm==3.7.1) (3.0.9)\n",
      "Requirement already satisfied: typing-extensions>=4.6.1 in c:\\users\\todor\\anaconda3\\lib\\site-packages (from pydantic!=1.8,!=1.8.1,<3.0.0,>=1.7.4->spacy<3.8.0,>=3.7.2->en-core-web-sm==3.7.1) (4.12.2)\n",
      "Requirement already satisfied: pydantic-core==2.23.3 in c:\\users\\todor\\anaconda3\\lib\\site-packages (from pydantic!=1.8,!=1.8.1,<3.0.0,>=1.7.4->spacy<3.8.0,>=3.7.2->en-core-web-sm==3.7.1) (2.23.3)\n",
      "Requirement already satisfied: annotated-types>=0.6.0 in c:\\users\\todor\\anaconda3\\lib\\site-packages (from pydantic!=1.8,!=1.8.1,<3.0.0,>=1.7.4->spacy<3.8.0,>=3.7.2->en-core-web-sm==3.7.1) (0.7.0)\n",
      "Requirement already satisfied: idna<4,>=2.5 in c:\\users\\todor\\anaconda3\\lib\\site-packages (from requests<3.0.0,>=2.13.0->spacy<3.8.0,>=3.7.2->en-core-web-sm==3.7.1) (3.3)\n",
      "Requirement already satisfied: certifi>=2017.4.17 in c:\\users\\todor\\anaconda3\\lib\\site-packages (from requests<3.0.0,>=2.13.0->spacy<3.8.0,>=3.7.2->en-core-web-sm==3.7.1) (2022.9.14)\n",
      "Requirement already satisfied: urllib3<1.27,>=1.21.1 in c:\\users\\todor\\anaconda3\\lib\\site-packages (from requests<3.0.0,>=2.13.0->spacy<3.8.0,>=3.7.2->en-core-web-sm==3.7.1) (1.26.11)\n",
      "Requirement already satisfied: charset-normalizer<3,>=2 in c:\\users\\todor\\anaconda3\\lib\\site-packages (from requests<3.0.0,>=2.13.0->spacy<3.8.0,>=3.7.2->en-core-web-sm==3.7.1) (2.0.4)\n",
      "Requirement already satisfied: confection<1.0.0,>=0.0.1 in c:\\users\\todor\\anaconda3\\lib\\site-packages (from thinc<8.3.0,>=8.2.2->spacy<3.8.0,>=3.7.2->en-core-web-sm==3.7.1) (0.1.5)\n",
      "Requirement already satisfied: blis<0.8.0,>=0.7.8 in c:\\users\\todor\\anaconda3\\lib\\site-packages (from thinc<8.3.0,>=8.2.2->spacy<3.8.0,>=3.7.2->en-core-web-sm==3.7.1) (0.7.11)\n",
      "Requirement already satisfied: colorama in c:\\users\\todor\\anaconda3\\lib\\site-packages (from tqdm<5.0.0,>=4.38.0->spacy<3.8.0,>=3.7.2->en-core-web-sm==3.7.1) (0.4.6)\n",
      "Requirement already satisfied: rich>=10.11.0 in c:\\users\\todor\\anaconda3\\lib\\site-packages (from typer<1.0.0,>=0.3.0->spacy<3.8.0,>=3.7.2->en-core-web-sm==3.7.1) (13.8.1)\n",
      "Requirement already satisfied: click>=8.0.0 in c:\\users\\todor\\anaconda3\\lib\\site-packages (from typer<1.0.0,>=0.3.0->spacy<3.8.0,>=3.7.2->en-core-web-sm==3.7.1) (8.0.4)\n",
      "Requirement already satisfied: shellingham>=1.3.0 in c:\\users\\todor\\anaconda3\\lib\\site-packages (from typer<1.0.0,>=0.3.0->spacy<3.8.0,>=3.7.2->en-core-web-sm==3.7.1) (1.5.4)\n",
      "Requirement already satisfied: smart-open<8.0.0,>=5.2.1 in c:\\users\\todor\\anaconda3\\lib\\site-packages (from weasel<0.5.0,>=0.1.0->spacy<3.8.0,>=3.7.2->en-core-web-sm==3.7.1) (5.2.1)\n",
      "Requirement already satisfied: cloudpathlib<1.0.0,>=0.7.0 in c:\\users\\todor\\anaconda3\\lib\\site-packages (from weasel<0.5.0,>=0.1.0->spacy<3.8.0,>=3.7.2->en-core-web-sm==3.7.1) (0.19.0)\n",
      "Requirement already satisfied: MarkupSafe>=0.23 in c:\\users\\todor\\anaconda3\\lib\\site-packages (from jinja2->spacy<3.8.0,>=3.7.2->en-core-web-sm==3.7.1) (2.0.1)\n",
      "Requirement already satisfied: marisa-trie>=0.7.7 in c:\\users\\todor\\anaconda3\\lib\\site-packages (from language-data>=1.2->langcodes<4.0.0,>=3.2.0->spacy<3.8.0,>=3.7.2->en-core-web-sm==3.7.1) (1.2.0)\n",
      "Requirement already satisfied: markdown-it-py>=2.2.0 in c:\\users\\todor\\anaconda3\\lib\\site-packages (from rich>=10.11.0->typer<1.0.0,>=0.3.0->spacy<3.8.0,>=3.7.2->en-core-web-sm==3.7.1) (3.0.0)\n",
      "Requirement already satisfied: pygments<3.0.0,>=2.13.0 in c:\\users\\todor\\anaconda3\\lib\\site-packages (from rich>=10.11.0->typer<1.0.0,>=0.3.0->spacy<3.8.0,>=3.7.2->en-core-web-sm==3.7.1) (2.18.0)\n",
      "Requirement already satisfied: mdurl~=0.1 in c:\\users\\todor\\anaconda3\\lib\\site-packages (from markdown-it-py>=2.2.0->rich>=10.11.0->typer<1.0.0,>=0.3.0->spacy<3.8.0,>=3.7.2->en-core-web-sm==3.7.1) (0.1.2)\n",
      "\u001b[38;5;2m[+] Download and installation successful\u001b[0m\n",
      "You can now load the package via spacy.load('en_core_web_sm')\n"
     ]
    }
   ],
   "source": [
    "# Downloading the english model\n",
    "\n",
    "!python -m spacy download en_core_web_sm"
   ]
  },
  {
   "cell_type": "code",
   "execution_count": 111,
   "id": "0c108693",
   "metadata": {},
   "outputs": [],
   "source": [
    "# Loading the english model and the cleaned text as input\n",
    "\n",
    "nlp = spacy.load(\"en_core_web_sm\")\n",
    "document = nlp(cleaned_text)"
   ]
  },
  {
   "cell_type": "code",
   "execution_count": 112,
   "id": "6f9d76a4",
   "metadata": {},
   "outputs": [
    {
     "name": "stdout",
     "output_type": "stream",
     "text": [
      "['brazilian', 'jiujitsu', 'article', 'talk', 'read', 'edit', 'view', 'history', 'tools', 'appearance', 'hide', 'text', 'small', 'standard', 'large', 'width', 'standard', 'wide', 'color', 'beta', 'automatic', 'light', 'dark', 'wikipedia', 'free', 'encyclopedia', 'bjj', 'redirects', 'uses', 'see', 'bjj', 'disambiguation', 'gracie', 'jiujitsu', 'redirects', 'book', 'helio', 'gracie', 'see', 'gracie', 'jiujitsu', 'book', 'brazilian', 'jiujitsu', 'romulo', 'barral', 'attempting', 'triangle', 'choke', 'gabriel', 'vella', 'world', 'jiujitsu', 'championship', 'also', 'known', 'bjj', 'gracie', 'jiujitsu', 'ginogi', 'jiujitsu', 'submission', 'grappling', 'portuguese', 'name', 'jiujitsu', 'brasileiro', 'japanese', 'name', 'burajirian', 'jjutsu', 'focus', 'ground', 'fighting', 'submission', 'grappling', 'hardness', 'full', 'contact', 'country', 'origin', 'brazil', 'creator', 'mataemon', 'tanabe', 'senjuro', 'kataoka', 'taro', 'miyake', 'yukio', 'tani', 'sada', 'miyako', 'geo', 'omori', 'mitsuyo', 'maeda', 'takeo', 'yano', 'soshihiro']\n"
     ]
    }
   ],
   "source": [
    "lemmatized_words_spacy = [token.text for token in document if token.text not in stop_words and token.is_alpha]\n",
    "print(lemmatized_words_spacy[:100])"
   ]
  },
  {
   "cell_type": "markdown",
   "id": "2ac2c750",
   "metadata": {},
   "source": [
    "### Text Analysis\n",
    "\n",
    "#### 8. Word Frequency Distribution"
   ]
  },
  {
   "cell_type": "code",
   "execution_count": 113,
   "id": "5a8d2da7",
   "metadata": {},
   "outputs": [
    {
     "name": "stdout",
     "output_type": "stream",
     "text": [
      "[('jiujitsu', 96), ('gracie', 57), ('opponent', 53), ('position', 51), ('bjj', 47), ('guard', 46), ('brazilian', 45), ('submission', 38), ('choke', 37), ('lock', 34), ('kg', 30), ('lb', 30), ('practitioner', 29), ('judo', 29), ('injury', 29), ('technique', 27), ('tournament', 27), ('ground', 26), ('art', 25), ('grappling', 24)]\n"
     ]
    }
   ],
   "source": [
    "word_counts = Counter(lemmatized_words)\n",
    "common_words = word_counts.most_common(20)\n",
    "print(common_words)"
   ]
  },
  {
   "cell_type": "code",
   "execution_count": 122,
   "id": "c2c1b38c",
   "metadata": {},
   "outputs": [
    {
     "data": {
      "image/png": "[encoded data removed]",
      "text/plain": [
       "<Figure size 640x480 with 1 Axes>"
      ]
     },
     "metadata": {},
     "output_type": "display_data"
    }
   ],
   "source": [
    "plt.bar(*zip(*common_words))\n",
    "\n",
    "plt.xticks(rotation=75)\n",
    "plt.title(\"Word Frequency Distribution\")\n",
    "plt.xlabel(\"words\")\n",
    "plt.ylabel(\"Frequency\")\n",
    "\n",
    "plt.show()"
   ]
  },
  {
   "cell_type": "markdown",
   "id": "7b4839bc",
   "metadata": {},
   "source": [
    "#### 9. Bigram and Trigram Analysis"
   ]
  },
  {
   "cell_type": "code",
   "execution_count": 128,
   "id": "932daa99",
   "metadata": {},
   "outputs": [],
   "source": [
    "# Creating the bi- and trigrams\n",
    "\n",
    "bigrams = list(ngrams(lemmatized_words, 2))\n",
    "trigrams = list(ngrams(lemmatized_words, 3))\n",
    "\n",
    "# Counting the frequency\n",
    "\n",
    "bigram_freq = Counter(bigrams)\n",
    "trigram_freq = Counter(trigrams)"
   ]
  },
  {
   "cell_type": "code",
   "execution_count": 129,
   "id": "c067fdcb",
   "metadata": {},
   "outputs": [],
   "source": [
    "# 10 most common bi- and trigrams\n",
    "\n",
    "common_bigrams = bigram_freq.most_common(10)\n",
    "common_trigrams = trigram_freq.most_common(10)"
   ]
  },
  {
   "cell_type": "code",
   "execution_count": 130,
   "id": "23afc551",
   "metadata": {},
   "outputs": [
    {
     "name": "stdout",
     "output_type": "stream",
     "text": [
      "[(('brazilian', 'jiujitsu'), 41), (('kg', 'lb'), 30), (('lb', 'kg'), 22), (('martial', 'art'), 16), (('joint', 'lock'), 14), (('gracie', 'jiujitsu'), 12), (('side', 'control'), 12), (('main', 'article'), 9), (('ground', 'fighting'), 8), (('black', 'belt'), 8)]\n"
     ]
    }
   ],
   "source": [
    "print(common_bigrams)"
   ]
  },
  {
   "cell_type": "code",
   "execution_count": 131,
   "id": "48cdc07c",
   "metadata": {},
   "outputs": [
    {
     "name": "stdout",
     "output_type": "stream",
     "text": [
      "[(('kg', 'lb', 'kg'), 22), (('lb', 'kg', 'lb'), 22), (('international', 'brazilian', 'jiujitsu'), 4), (('brazilian', 'jiujitsu', 'federation'), 4), (('knee', 'belly', 'position'), 4), (('de', 'la', 'riva'), 4), (('open', 'weight', 'division'), 4), (('jiujitsu', 'federation', 'ibjjf'), 3), (('ultimate', 'fighting', 'championship'), 3), (('list', 'brazilian', 'jiujitsu'), 3)]\n"
     ]
    }
   ],
   "source": [
    "print(common_trigrams)"
   ]
  },
  {
   "cell_type": "markdown",
   "id": "5a2a7cdd",
   "metadata": {},
   "source": [
    "#### 10. TF-IDF Calculation"
   ]
  },
  {
   "cell_type": "code",
   "execution_count": 133,
   "id": "d47c21bd",
   "metadata": {},
   "outputs": [],
   "source": [
    "# Initialize the Tf-IDF Vectorizer\n",
    "\n",
    "tfidf = TfidfVectorizer(max_features = 1000, stop_words=\"english\")"
   ]
  },
  {
   "cell_type": "code",
   "execution_count": 137,
   "id": "bc1dd7f2",
   "metadata": {},
   "outputs": [],
   "source": [
    "# Converting the list (lemmatized words) into a text\n",
    "\n",
    "tfidf_matrix = tfidf.fit_transform([\" \".join(lemmatized_words)])"
   ]
  },
  {
   "cell_type": "code",
   "execution_count": 142,
   "id": "31f72edd",
   "metadata": {},
   "outputs": [],
   "source": [
    "# Extracting te feature names and the tfidf scores\n",
    "\n",
    "feature_names = tfidf.get_feature_names_out()\n",
    "tfidf_scores = tfidf_matrix.toarray().flatten()"
   ]
  },
  {
   "cell_type": "code",
   "execution_count": 159,
   "id": "b625e1bc",
   "metadata": {},
   "outputs": [
    {
     "name": "stdout",
     "output_type": "stream",
     "text": [
      "[('jiujitsu', 0.4255626864081051), ('gracie', 0.2526778450548124), ('opponent', 0.2349460664544747), ('position', 0.22608017715430584), ('bjj', 0.2083483985539681), ('guard', 0.2039154539038837), ('brazilian', 0.19948250925379926), ('submission', 0.16845189670320826), ('choke', 0.16401895205312383), ('lock', 0.15072011810287056)]\n"
     ]
    }
   ],
   "source": [
    "# Getting the top 10 words by tf-idf score\n",
    "\n",
    "top_tfidf_words = sorted(zip(feature_names, tfidf_scores), key = lambda x:x[1], reverse=True)\n",
    "print(top_tfidf_words[:10])"
   ]
  }
 ],
 "metadata": {
  "kernelspec": {
   "display_name": "Python 3 (ipykernel)",
   "language": "python",
   "name": "python3"
  },
  "language_info": {
   "codemirror_mode": {
    "name": "ipython",
    "version": 3
   },
   "file_extension": ".py",
   "mimetype": "text/x-python",
   "name": "python",
   "nbconvert_exporter": "python",
   "pygments_lexer": "ipython3",
   "version": "3.9.13"
  }
 },
 "nbformat": 4,
 "nbformat_minor": 5
}
