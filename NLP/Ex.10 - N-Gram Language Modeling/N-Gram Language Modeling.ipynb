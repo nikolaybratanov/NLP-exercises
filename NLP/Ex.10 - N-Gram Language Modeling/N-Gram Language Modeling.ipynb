{
 "cells": [
  {
   "cell_type": "code",
   "execution_count": 68,
   "id": "9071a86f",
   "metadata": {},
   "outputs": [],
   "source": [
    "# Imports\n",
    "\n",
    "import pandas as pd\n",
    "import numpy as np\n",
    "import matplotlib.pyplot as plt\n",
    "import re\n",
    "import nltk\n",
    "import math\n",
    "import random\n",
    "\n",
    "from nltk.tokenize import word_tokenize\n",
    "from nltk import ngrams\n",
    "from collections import Counter"
   ]
  },
  {
   "cell_type": "code",
   "execution_count": 2,
   "id": "1ce76023",
   "metadata": {},
   "outputs": [],
   "source": [
    "# Downloads"
   ]
  },
  {
   "cell_type": "markdown",
   "id": "440bd174",
   "metadata": {},
   "source": [
    "# Agenda\n",
    "\n",
    "1. Dataset Loading\n",
    "2. Data Preprocessing\n",
    "- Lowercasing\n",
    "- Removing special characters\n",
    "- Tokenization\n",
    "3. Generation of N-grams\n",
    "- Bigrams\n",
    "- Trigrams\n",
    "4. Probability Distribution using Maximum Likelihood Estimator (MLE)\n",
    "5. Smoothing Techniques\n",
    "- Laplace Smoothing\n",
    "6. Evaluation using Perplexity\n",
    "7. Sentence generation using N-grams"
   ]
  },
  {
   "cell_type": "markdown",
   "id": "3af717b4",
   "metadata": {},
   "source": [
    "### 1. Dataset Loading\n"
   ]
  },
  {
   "cell_type": "code",
   "execution_count": 3,
   "id": "ddb73f6d",
   "metadata": {},
   "outputs": [],
   "source": [
    "# Loading the data\n",
    "with open(\"THE SEVEN HABITS OF HIGHLY EFFECTIVE PEOPLE.txt\", encoding = \"utf-8\") as file:\n",
    "    book = file.read()"
   ]
  },
  {
   "cell_type": "code",
   "execution_count": 9,
   "id": "24c04c9f",
   "metadata": {},
   "outputs": [
    {
     "name": "stdout",
     "output_type": "stream",
     "text": [
      "the seven habits of highly effective people brought to you by flyheart\n",
      "the seven habits of highly effective people\n",
      "stephen r. covey\n",
      "the seven habits of highly effective people brought to you by flyheart\n",
      "stephen covey has written a remarkable book about the human condition, so elegantly written, so\n",
      "understanding of our embedded concerns, so useful for our organization and personal lives, that it's\n",
      "going to be my gift to everyone i know.\n",
      "-- warren bennis, author of on becoming a leader\n",
      "i've never \n"
     ]
    }
   ],
   "source": [
    "# Printing the first 500 characters\n",
    "print(book[:500])"
   ]
  },
  {
   "cell_type": "markdown",
   "id": "c8dbafdb",
   "metadata": {},
   "source": [
    "### 2. Data Preprocessing\n",
    "##### - Lowercasing\n"
   ]
  },
  {
   "cell_type": "code",
   "execution_count": 10,
   "id": "6b908d91",
   "metadata": {},
   "outputs": [
    {
     "name": "stdout",
     "output_type": "stream",
     "text": [
      "the seven habits of highly effective people brought to you by flyheart\n",
      "the seven habits of highly effective people\n",
      "stephen r. covey\n",
      "the seven habits of highly effective people brought to you by flyheart\n",
      "stephen covey has written a remarkable book about the human condition, so elegantly written, so\n",
      "understanding of our embedded concerns, so useful for our organization and personal lives, that it's\n",
      "going to be my gift to everyone i know.\n",
      "-- warren bennis, author of on becoming a leader\n",
      "i've never \n"
     ]
    }
   ],
   "source": [
    "# Lowercasing the text\n",
    "book = book.lower()\n",
    "\n",
    "print(book[:500])"
   ]
  },
  {
   "cell_type": "markdown",
   "id": "8fd971bf",
   "metadata": {},
   "source": [
    "##### - Removing special characters\n"
   ]
  },
  {
   "cell_type": "code",
   "execution_count": 12,
   "id": "ec548226",
   "metadata": {},
   "outputs": [
    {
     "name": "stdout",
     "output_type": "stream",
     "text": [
      "the seven habits of highly effective people brought to you by flyheart\n",
      "the seven habits of highly effective people\n",
      "stephen r covey\n",
      "the seven habits of highly effective people brought to you by flyheart\n",
      "stephen covey has written a remarkable book about the human condition so elegantly written so\n",
      "understanding of our embedded concerns so useful for our organization and personal lives that its\n",
      "going to be my gift to everyone i know\n",
      " warren bennis author of on becoming a leader\n",
      "ive never known any t\n"
     ]
    }
   ],
   "source": [
    "# Removing the special charachters\n",
    "book = re.sub(r\"[^a-zA-Z0-9\\s]\", \"\", book)\n",
    "\n",
    "print(book[:500])"
   ]
  },
  {
   "cell_type": "markdown",
   "id": "5ee51d93",
   "metadata": {},
   "source": [
    "##### - Tokenization\n"
   ]
  },
  {
   "cell_type": "code",
   "execution_count": 15,
   "id": "c5e56fe2",
   "metadata": {},
   "outputs": [
    {
     "name": "stdout",
     "output_type": "stream",
     "text": [
      "['the', 'seven', 'habits', 'of', 'highly', 'effective', 'people', 'brought', 'to', 'you', 'by', 'flyheart', 'the', 'seven', 'habits', 'of', 'highly', 'effective', 'people', 'stephen', 'r', 'covey', 'the', 'seven', 'habits', 'of', 'highly', 'effective', 'people', 'brought', 'to', 'you', 'by', 'flyheart', 'stephen', 'covey', 'has', 'written', 'a', 'remarkable', 'book', 'about', 'the', 'human', 'condition', 'so', 'elegantly', 'written', 'so', 'understanding', 'of', 'our', 'embedded', 'concerns', 'so', 'useful', 'for', 'our', 'organization', 'and', 'personal', 'lives', 'that', 'its', 'going', 'to', 'be', 'my', 'gift', 'to', 'everyone', 'i', 'know', 'warren', 'bennis', 'author', 'of', 'on', 'becoming', 'a', 'leader', 'ive', 'never', 'known', 'any', 'teacher', 'or', 'mentor', 'on', 'improving', 'personal', 'effectiveness', 'to', 'generate', 'such', 'an', 'overwhelmingly', 'positive', 'reaction', 'this']\n"
     ]
    }
   ],
   "source": [
    "tokens = word_tokenize(book)\n",
    "\n",
    "print(tokens[:100])"
   ]
  },
  {
   "cell_type": "markdown",
   "id": "148835b7",
   "metadata": {},
   "source": [
    "##### - Bigrams\n"
   ]
  },
  {
   "cell_type": "code",
   "execution_count": 23,
   "id": "0acdecf3",
   "metadata": {},
   "outputs": [
    {
     "data": {
      "text/plain": [
       "[('the', 'seven'),\n",
       " ('seven', 'habits'),\n",
       " ('habits', 'of'),\n",
       " ('of', 'highly'),\n",
       " ('highly', 'effective'),\n",
       " ('effective', 'people'),\n",
       " ('people', 'brought'),\n",
       " ('brought', 'to'),\n",
       " ('to', 'you'),\n",
       " ('you', 'by')]"
      ]
     },
     "execution_count": 23,
     "metadata": {},
     "output_type": "execute_result"
    }
   ],
   "source": [
    "# Creating the bigrams\n",
    "bigrams = list(ngrams(tokens, 2))\n",
    "\n",
    "# Showing the first 10\n",
    "bigrams[:10]"
   ]
  },
  {
   "cell_type": "code",
   "execution_count": 27,
   "id": "8e1e955f",
   "metadata": {},
   "outputs": [
    {
     "data": {
      "text/plain": [
       "[(('of', 'the'), 534),\n",
       " (('in', 'the'), 427),\n",
       " (('to', 'you'), 222),\n",
       " (('to', 'the'), 216),\n",
       " (('to', 'be'), 210),\n",
       " (('on', 'the'), 208),\n",
       " (('seven', 'habits'), 204),\n",
       " (('and', 'the'), 200),\n",
       " (('the', 'seven'), 197),\n",
       " (('habits', 'of'), 195),\n",
       " (('highly', 'effective'), 190),\n",
       " (('effective', 'people'), 187),\n",
       " (('of', 'highly'), 185),\n",
       " (('brought', 'to'), 175),\n",
       " (('you', 'by'), 173)]"
      ]
     },
     "execution_count": 27,
     "metadata": {},
     "output_type": "execute_result"
    }
   ],
   "source": [
    "# Counting the bigrams\n",
    "bigrams_freq = Counter(bigrams)\n",
    "\n",
    "# Showing the 15 most common\n",
    "bigrams_freq.most_common(15)"
   ]
  },
  {
   "cell_type": "markdown",
   "id": "7cc7a73e",
   "metadata": {},
   "source": [
    "##### - Trigrams\n"
   ]
  },
  {
   "cell_type": "code",
   "execution_count": 25,
   "id": "ecd94ab2",
   "metadata": {},
   "outputs": [
    {
     "data": {
      "text/plain": [
       "[('the', 'seven', 'habits'),\n",
       " ('seven', 'habits', 'of'),\n",
       " ('habits', 'of', 'highly'),\n",
       " ('of', 'highly', 'effective'),\n",
       " ('highly', 'effective', 'people'),\n",
       " ('effective', 'people', 'brought'),\n",
       " ('people', 'brought', 'to'),\n",
       " ('brought', 'to', 'you'),\n",
       " ('to', 'you', 'by'),\n",
       " ('you', 'by', 'flyheart')]"
      ]
     },
     "execution_count": 25,
     "metadata": {},
     "output_type": "execute_result"
    }
   ],
   "source": [
    "# Creating the trigrams\n",
    "trigrams = list(ngrams(tokens,3))\n",
    "\n",
    "# Showing the first 10\n",
    "trigrams[:10]"
   ]
  },
  {
   "cell_type": "code",
   "execution_count": 30,
   "id": "66257a4a",
   "metadata": {},
   "outputs": [
    {
     "data": {
      "text/plain": [
       "[(('the', 'seven', 'habits'), 197),\n",
       " (('habits', 'of', 'highly'), 184),\n",
       " (('of', 'highly', 'effective'), 183),\n",
       " (('highly', 'effective', 'people'), 183),\n",
       " (('seven', 'habits', 'of'), 182),\n",
       " (('brought', 'to', 'you'), 173),\n",
       " (('to', 'you', 'by'), 173),\n",
       " (('effective', 'people', 'brought'), 172),\n",
       " (('people', 'brought', 'to'), 172),\n",
       " (('you', 'by', 'flyheart'), 172),\n",
       " (('circle', 'of', 'influence'), 49),\n",
       " (('as', 'well', 'as'), 41),\n",
       " (('you', 'want', 'to'), 41),\n",
       " (('you', 'have', 'to'), 34),\n",
       " (('in', 'harmony', 'with'), 32)]"
      ]
     },
     "execution_count": 30,
     "metadata": {},
     "output_type": "execute_result"
    }
   ],
   "source": [
    "#Counting the trigrams\n",
    "trigrams_freq = Counter(trigrams)\n",
    "\n",
    "# Showing the most common 15\n",
    "trigrams_freq.most_common(15)"
   ]
  },
  {
   "cell_type": "markdown",
   "id": "d2a13c17",
   "metadata": {},
   "source": [
    "### 4. Probability Distribution using Maximum Likelihood Estimator (MLE)\n"
   ]
  },
  {
   "cell_type": "code",
   "execution_count": 33,
   "id": "8fb0d37e",
   "metadata": {},
   "outputs": [],
   "source": [
    "# Defining a function for the probability calculation\n",
    "def bigram_probability(bigram, bigram_freq, unigram_freq):\n",
    "    return bigram_freq[bigram] / unigram_freq[bigram[0]]"
   ]
  },
  {
   "cell_type": "code",
   "execution_count": 43,
   "id": "472641f9",
   "metadata": {},
   "outputs": [
    {
     "data": {
      "text/plain": [
       "[('the', 5530),\n",
       " ('to', 3846),\n",
       " ('and', 3470),\n",
       " ('of', 3223),\n",
       " ('a', 2103),\n",
       " ('you', 2017),\n",
       " ('in', 1889),\n",
       " ('i', 1399),\n",
       " ('that', 1380),\n",
       " ('is', 1290),\n",
       " ('it', 1153),\n",
       " ('we', 1064),\n",
       " ('your', 923),\n",
       " ('with', 848),\n",
       " ('or', 786)]"
      ]
     },
     "execution_count": 43,
     "metadata": {},
     "output_type": "execute_result"
    }
   ],
   "source": [
    "# Counting the unigrams\n",
    "unigrams_freq = Counter(tokens)\n",
    "\n",
    "# Showing the most common 15\n",
    "unigrams_freq.most_common(15)"
   ]
  },
  {
   "cell_type": "code",
   "execution_count": 45,
   "id": "383f9dda",
   "metadata": {},
   "outputs": [
    {
     "name": "stdout",
     "output_type": "stream",
     "text": [
      "The probability that the word man follows the word the is 0.16%\n"
     ]
    }
   ],
   "source": [
    "# Testing the model\n",
    "test_bigram = (\"the\", \"man\")\n",
    "\n",
    "# Calculating the probability\n",
    "probability = bigram_probability(test_bigram, bigrams_freq, unigrams_freq)\n",
    "\n",
    "# Printing the results\n",
    "print(f\"The probability that the word {test_bigram[1]} follows the word {test_bigram[0]} is {probability*100:.2f}%\")"
   ]
  },
  {
   "cell_type": "markdown",
   "id": "946a555b",
   "metadata": {},
   "source": [
    "### 5. Smoothing Techniques\n",
    "##### - Laplace Smoothing"
   ]
  },
  {
   "cell_type": "code",
   "execution_count": 48,
   "id": "dc55d4b4",
   "metadata": {},
   "outputs": [
    {
     "name": "stdout",
     "output_type": "stream",
     "text": [
      "The Laplace Smoothing Probability that the word man follows the word the is 9.00%\n"
     ]
    }
   ],
   "source": [
    "# Defining the function\n",
    "def bigram_laplace_probability (bigram, bigram_freq, unigram_freq, vocab_size):\n",
    "    return (bigram_freq[bigram] + 1 / (unigram_freq[bigram[0]] + vocab_size))\n",
    "\n",
    "# Calculating the probability\n",
    "vocab_size = len(unigram_freq)\n",
    "prob_laplace = bigram_laplace_probability(test_bigram, bigrams_freq, unigrams_freq, vocab_size)\n",
    "\n",
    "# Printing the result\n",
    "print(f\"The Laplace Smoothing Probability that the word {test_bigram[1]} follows the word {test_bigram[0]} is {prob_laplace:.2f}%\")"
   ]
  },
  {
   "cell_type": "markdown",
   "id": "4ee0a682",
   "metadata": {},
   "source": [
    "### 6. Evaluation using Perplexity\n"
   ]
  },
  {
   "cell_type": "code",
   "execution_count": 62,
   "id": "3799b446",
   "metadata": {},
   "outputs": [],
   "source": [
    "# Defining the function\n",
    "def calculate_perplexity(test_data, bigram_freq, unigram_freq, vocab_size):\n",
    "    perplexity = 0\n",
    "    N = len(test_data)-1\n",
    "    # For loop for each word in the bigram\n",
    "    for i in range(N):\n",
    "        bigram = test_data[i], test_data[i+1]\n",
    "        \n",
    "        # Calculating the probability using the laplace smoothing function\n",
    "        prob = bigram_laplace_probability(bigram, bigram_freq, unigram_freq, vocab_size)\n",
    "        \n",
    "        # Calculating the perplexity in the for loop\n",
    "        perplexity += math.log2(prob)\n",
    "    \n",
    "    \n",
    "    perplexity = 2**(-perplexity/N)\n",
    "    return perplexity"
   ]
  },
  {
   "cell_type": "code",
   "execution_count": 67,
   "id": "eaa013d2",
   "metadata": {},
   "outputs": [
    {
     "name": "stdout",
     "output_type": "stream",
     "text": [
      "Perplexity score: 0.22997943577694507\n"
     ]
    }
   ],
   "source": [
    "# Calculating the perplexity\n",
    "perplexity_score = calculate_perplexity(tokens, bigrams_freq, unigrams_freq, vocab_size)\n",
    "\n",
    "# Printing the result\n",
    "print(f\"Perplexity score: {perplexity_score}\")"
   ]
  },
  {
   "cell_type": "markdown",
   "id": "8cc8b355",
   "metadata": {},
   "source": [
    "### 7. Sentence generation using N-grams"
   ]
  },
  {
   "cell_type": "code",
   "execution_count": 72,
   "id": "cc7b18c2",
   "metadata": {},
   "outputs": [],
   "source": [
    "# Defining the function\n",
    "def generate_sentence(bigram_freq, start_word, max_len):\n",
    "    current_word = start_word\n",
    "    sentence = [(current_word)]\n",
    "    for _ in range (max_len-1):\n",
    "        next_word_candidates = [(bigram[1], freq) for bigram, freq in bigram_freq.items() if bigram[0] == current_word]\n",
    "        if next_word_candidates:\n",
    "            next_word = max(next_word_candidates, key = lambda x: x[1])[0]\n",
    "            sentence.append(next_word)\n",
    "            current_word = next_word\n",
    "        else:\n",
    "            break\n",
    "    return \" \".join(sentence)"
   ]
  },
  {
   "cell_type": "code",
   "execution_count": 76,
   "id": "fed7483d",
   "metadata": {},
   "outputs": [
    {
     "data": {
      "text/plain": [
       "'the seven habits of the seven habits of the seven'"
      ]
     },
     "execution_count": 76,
     "metadata": {},
     "output_type": "execute_result"
    }
   ],
   "source": [
    "# Generating a sentence\n",
    "generate_sentence(bigrams_freq, \"the\", 10)"
   ]
  }
 ],
 "metadata": {
  "kernelspec": {
   "display_name": "Python 3 (ipykernel)",
   "language": "python",
   "name": "python3"
  },
  "language_info": {
   "codemirror_mode": {
    "name": "ipython",
    "version": 3
   },
   "file_extension": ".py",
   "mimetype": "text/x-python",
   "name": "python",
   "nbconvert_exporter": "python",
   "pygments_lexer": "ipython3",
   "version": "3.9.13"
  }
 },
 "nbformat": 4,
 "nbformat_minor": 5
}
