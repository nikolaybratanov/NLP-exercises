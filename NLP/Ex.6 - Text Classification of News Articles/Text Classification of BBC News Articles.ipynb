{
 "cells": [
  {
   "cell_type": "code",
   "execution_count": 215,
   "id": "ab32ad45",
   "metadata": {},
   "outputs": [],
   "source": [
    "#Imports\n",
    "import pandas as pd\n",
    "import numpy as np\n",
    "import nltk\n",
    "import matplotlib.pyplot as plt\n",
    "import spacy\n",
    "import re\n",
    "\n",
    "from sklearn.datasets import fetch_20newsgroups\n",
    "from sklearn.feature_extraction.text import TfidfVectorizer\n",
    "from sklearn.model_selection import train_test_split, GridSearchCV\n",
    "from sklearn.naive_bayes import MultinomialNB\n",
    "from sklearn.linear_model import LogisticRegression\n",
    "from sklearn.ensemble import RandomForestClassifier\n",
    "from sklearn.metrics import accuracy_score, precision_score,recall_score, f1_score, classification_report\n",
    "from sklearn.svm import SVC\n",
    "from collections import Counter\n",
    "from nltk.corpus import stopwords\n",
    "from nltk.stem import PorterStemmer, WordNetLemmatizer\n",
    "from nltk.tokenize import word_tokenize"
   ]
  },
  {
   "cell_type": "code",
   "execution_count": 3,
   "id": "5e608675",
   "metadata": {},
   "outputs": [],
   "source": [
    "#Downloads"
   ]
  },
  {
   "cell_type": "markdown",
   "id": "e6ac4d69",
   "metadata": {},
   "source": [
    "# Agenda\n",
    "\n",
    "1. Dataset Loading\n",
    "2. Text Preprocessing\n",
    "- Lowercasing\n",
    "- Removing special characters, numbers, and punctuation\n",
    "- Tokenization\n",
    "- Stopword Removal\n",
    "- Lemmatization\n",
    "3. Feature Extraction with TF-IDF\n",
    "4. Model Training\n",
    "- Naive Bayes\n",
    "- Logistic Regression\n",
    "- Support Vector Machine (SVM)\n",
    "- Random Forest\n",
    "5. Model Evaluation\n",
    "6. Result visualization\n",
    "7. Fine Tuning of the best model"
   ]
  },
  {
   "cell_type": "markdown",
   "id": "c708c4ad",
   "metadata": {},
   "source": [
    "### 1. Dataset Loading"
   ]
  },
  {
   "cell_type": "code",
   "execution_count": 8,
   "id": "9a540deb",
   "metadata": {},
   "outputs": [],
   "source": [
    "categories = [\"rec.autos\", \"rec.sport.hockey\", \"sci.crypt\", \"sci.electronics\", \"sci.med\"]\n",
    "news_groups = fetch_20newsgroups(subset = \"train\",  categories = categories, remove=(\"headers\", \"footers\", \"quotes\"))"
   ]
  },
  {
   "cell_type": "code",
   "execution_count": 19,
   "id": "d172c7e4",
   "metadata": {},
   "outputs": [
    {
     "name": "stdout",
     "output_type": "stream",
     "text": [
      "(2974,)\n",
      "(2974,)\n"
     ]
    }
   ],
   "source": [
    "#Checking the shapes\n",
    "print(news_groups.filenames.shape)\n",
    "print(news_groups.target.shape)"
   ]
  },
  {
   "cell_type": "code",
   "execution_count": 47,
   "id": "518bb954",
   "metadata": {},
   "outputs": [
    {
     "name": "stdout",
     "output_type": "stream",
     "text": [
      "If anyone out there has an HP180 series scope or mainframe, I\n",
      "have the TDR plug in (the 1810, I believe) for it and have no need\n",
      "to keep it. Interested? E-mail me.\n",
      "\n",
      "-- \n",
      "--------------------------------------------------------------------\n",
      "       Dave Medin\t\t\tPhone:\t(205) 730-3169 (w)\n",
      "    SSD--Networking\t\t\t\t(205) 837-1174 (h)\n",
      "    Intergraph Corp.\n",
      "       M/S GD3004 \t\tInternet: dtmedin@catbyte.b30.ingr.com\n",
      "  Huntsville, AL 35894\t\tUUCP:  ...uunet!ingr!b30!catbyte!dtmedin\n",
      "\n",
      "   ******* Everywhere You Look (at least around my office) *******\n"
     ]
    }
   ],
   "source": [
    "#Printing one example\n",
    "print(news_groups.data[0])"
   ]
  },
  {
   "cell_type": "code",
   "execution_count": 48,
   "id": "9b23b66f",
   "metadata": {},
   "outputs": [
    {
     "data": {
      "text/plain": [
       "'sci.electronics'"
      ]
     },
     "execution_count": 48,
     "metadata": {},
     "output_type": "execute_result"
    }
   ],
   "source": [
    "#Printing the category of this example\n",
    "news_groups.target_names[news_groups.target[0]]"
   ]
  },
  {
   "cell_type": "markdown",
   "id": "24f48578",
   "metadata": {},
   "source": [
    "### 2. Text Preprocessing\n",
    "\n",
    "##### - Lowercasing"
   ]
  },
  {
   "cell_type": "code",
   "execution_count": 88,
   "id": "faf82cce",
   "metadata": {},
   "outputs": [
    {
     "name": "stdout",
     "output_type": "stream",
     "text": [
      "if anyone out there has an hp180 series scope or mainframe, i\n",
      "have the tdr plug in (the 1810, i believe) for it and have no need\n",
      "to keep it. interested? e-mail me.\n",
      "\n",
      "-- \n",
      "--------------------------------------------------------------------\n",
      "       dave medin\t\t\tphone:\t(205) 730-3169 (w)\n",
      "    ssd--networking\t\t\t\t(205) 837-1174 (h)\n",
      "    intergraph corp.\n",
      "       m/s gd3004 \t\tinternet: dtmedin@catbyte.b30.ingr.com\n",
      "  huntsville, al 35894\t\tuucp:  ...uunet!ingr!b30!catbyte!dtmedin\n",
      "\n",
      "   ******* everywhere you look (at least around my office) *******\n"
     ]
    }
   ],
   "source": [
    "lowercased_text = [article.lower() for article in news_groups.data]\n",
    "print(lowercased_text[0])"
   ]
  },
  {
   "cell_type": "markdown",
   "id": "3c0bf88c",
   "metadata": {},
   "source": [
    "##### - Special characters removal"
   ]
  },
  {
   "cell_type": "code",
   "execution_count": 86,
   "id": "1df13c1e",
   "metadata": {},
   "outputs": [],
   "source": [
    "cleaned_text = [re.sub(r\"[^a-zA-Z\\s]\", \" \", text) for text in lowercased_text]"
   ]
  },
  {
   "cell_type": "code",
   "execution_count": 89,
   "id": "943f60ce",
   "metadata": {},
   "outputs": [
    {
     "name": "stdout",
     "output_type": "stream",
     "text": [
      "if anyone out there has an hp    series scope or mainframe  i\n",
      "have the tdr plug in  the       i believe  for it and have no need\n",
      "to keep it  interested  e mail me \n",
      "\n",
      "   \n",
      "                                                                    \n",
      "       dave medin\t\t\tphone \t                w \n",
      "    ssd  networking\t\t\t\t                h \n",
      "    intergraph corp \n",
      "       m s gd     \t\tinternet  dtmedin catbyte b   ingr com\n",
      "  huntsville  al      \t\tuucp      uunet ingr b   catbyte dtmedin\n",
      "\n",
      "           everywhere you look  at least around my office         \n"
     ]
    }
   ],
   "source": [
    "print(cleaned_text[0])"
   ]
  },
  {
   "cell_type": "markdown",
   "id": "b9101ab4",
   "metadata": {},
   "source": [
    "##### - Tokenization"
   ]
  },
  {
   "cell_type": "code",
   "execution_count": 90,
   "id": "e2e52c51",
   "metadata": {},
   "outputs": [],
   "source": [
    "tokens = [word_tokenize(article) for article in cleaned_text]"
   ]
  },
  {
   "cell_type": "code",
   "execution_count": 91,
   "id": "6a03371e",
   "metadata": {},
   "outputs": [
    {
     "name": "stdout",
     "output_type": "stream",
     "text": [
      "['if', 'anyone', 'out', 'there', 'has', 'an', 'hp', 'series', 'scope', 'or', 'mainframe', 'i', 'have', 'the', 'tdr', 'plug', 'in', 'the', 'i', 'believe', 'for', 'it', 'and', 'have', 'no', 'need', 'to', 'keep', 'it', 'interested', 'e', 'mail', 'me', 'dave', 'medin', 'phone', 'w', 'ssd', 'networking', 'h', 'intergraph', 'corp', 'm', 's', 'gd', 'internet', 'dtmedin', 'catbyte', 'b', 'ingr', 'com', 'huntsville', 'al', 'uucp', 'uunet', 'ingr', 'b', 'catbyte', 'dtmedin', 'everywhere', 'you', 'look', 'at', 'least', 'around', 'my', 'office']\n"
     ]
    }
   ],
   "source": [
    "print(tokens[0])"
   ]
  },
  {
   "cell_type": "markdown",
   "id": "dd4ab226",
   "metadata": {},
   "source": [
    "##### - Stopword Removal"
   ]
  },
  {
   "cell_type": "code",
   "execution_count": 92,
   "id": "354a62fa",
   "metadata": {},
   "outputs": [],
   "source": [
    "#Initializing the stop_words\n",
    "stop_words = set(stopwords.words(\"english\"))\n",
    "\n",
    "#Creating a list\n",
    "filtered_tokens = []\n",
    "\n",
    "#Using a for-loop to iterate the news\n",
    "for article_tokens in tokens:\n",
    "    words = [word for word in article_tokens if word not in stop_words]\n",
    "    filtered_tokens.append(words)"
   ]
  },
  {
   "cell_type": "code",
   "execution_count": 93,
   "id": "35f1640e",
   "metadata": {},
   "outputs": [
    {
     "name": "stdout",
     "output_type": "stream",
     "text": [
      "['anyone', 'hp', 'series', 'scope', 'mainframe', 'tdr', 'plug', 'believe', 'need', 'keep', 'interested', 'e', 'mail', 'dave', 'medin', 'phone', 'w', 'ssd', 'networking', 'h', 'intergraph', 'corp', 'gd', 'internet', 'dtmedin', 'catbyte', 'b', 'ingr', 'com', 'huntsville', 'al', 'uucp', 'uunet', 'ingr', 'b', 'catbyte', 'dtmedin', 'everywhere', 'look', 'least', 'around', 'office']\n"
     ]
    }
   ],
   "source": [
    "print(filtered_tokens[0])"
   ]
  },
  {
   "cell_type": "markdown",
   "id": "c8218682",
   "metadata": {},
   "source": [
    "##### - Function for all steps"
   ]
  },
  {
   "cell_type": "code",
   "execution_count": 94,
   "id": "0d489a11",
   "metadata": {},
   "outputs": [],
   "source": [
    "def text_preprocessing(text):\n",
    "    lowercased_text = text.lower()\n",
    "    cleaned_text = re.sub(r\"[^a-zA-Z]\", \" \", lowercased_text)\n",
    "    tokens = word_tokenize(cleaned_text)\n",
    "    words = [word for word in tokens if word not in stop_words]\n",
    "    return \" \".join(words)"
   ]
  },
  {
   "cell_type": "code",
   "execution_count": 95,
   "id": "a1deadd0",
   "metadata": {},
   "outputs": [
    {
     "data": {
      "text/plain": [
       "'anyone hp series scope mainframe tdr plug believe need keep interested e mail dave medin phone w ssd networking h intergraph corp gd internet dtmedin catbyte b ingr com huntsville al uucp uunet ingr b catbyte dtmedin everywhere look least around office'"
      ]
     },
     "execution_count": 95,
     "metadata": {},
     "output_type": "execute_result"
    }
   ],
   "source": [
    "text_preprocessing(news_groups.data[0])"
   ]
  },
  {
   "cell_type": "markdown",
   "id": "ae97113b",
   "metadata": {},
   "source": [
    "##### - Lemmatization"
   ]
  },
  {
   "cell_type": "code",
   "execution_count": 97,
   "id": "58dfbd19",
   "metadata": {},
   "outputs": [],
   "source": [
    "# Initializing the English model\n",
    "nlp = spacy.load(\"en_core_web_sm\")"
   ]
  },
  {
   "cell_type": "code",
   "execution_count": 99,
   "id": "6fae5e98",
   "metadata": {},
   "outputs": [
    {
     "name": "stdout",
     "output_type": "stream",
     "text": [
      "['anyone', 'hp', 'series', 'scope', 'mainframe', 'tdr', 'plug', 'believe', 'need', 'keep', 'interested', 'e', 'mail', 'dave', 'medin', 'phone', 'w', 'ssd', 'networking', 'h', 'intergraph', 'corp', 'gd', 'internet', 'dtmedin', 'catbyte', 'b', 'ingr', 'com', 'huntsville', 'al', 'uucp', 'uunet', 'ingr', 'b', 'catbyte', 'dtmedin', 'everywhere', 'look', 'least', 'around', 'office']\n"
     ]
    }
   ],
   "source": [
    "for article in filtered_tokens:\n",
    "    print(article)\n",
    "    break"
   ]
  },
  {
   "cell_type": "code",
   "execution_count": 101,
   "id": "b9ba5004",
   "metadata": {},
   "outputs": [],
   "source": [
    "# Create a list for the lemmatized words\n",
    "lemmatized_tokens = []\n",
    "\n",
    "# For Loop for the lemmatization\n",
    "for article in filtered_tokens:\n",
    "    article_text = \" \".join(article)\n",
    "    doc = nlp(article_text)\n",
    "    lemmatized_words = [token.lemma_ for token in doc]\n",
    "    lemmatized_tokens.append(\" \".join(lemmatized_words))"
   ]
  },
  {
   "cell_type": "code",
   "execution_count": 105,
   "id": "a4d90d3a",
   "metadata": {},
   "outputs": [
    {
     "data": {
      "text/plain": [
       "'anyone hp series scope mainframe tdr plug believe need keep interested e mail dave medin phone w ssd network h intergraph corp gd internet dtmedin catbyte b ingr com huntsville al uucp uunet ingr b catbyte dtmedin everywhere look least around office'"
      ]
     },
     "execution_count": 105,
     "metadata": {},
     "output_type": "execute_result"
    }
   ],
   "source": [
    "lemmatized_tokens[0]"
   ]
  },
  {
   "cell_type": "markdown",
   "id": "4bca48a5",
   "metadata": {},
   "source": [
    "### 3. Feature Extraction with TF-IDF"
   ]
  },
  {
   "cell_type": "code",
   "execution_count": 115,
   "id": "cc9f3ed6",
   "metadata": {},
   "outputs": [
    {
     "name": "stdout",
     "output_type": "stream",
     "text": [
      "  (0, 3109)\t0.13128972566790537\n",
      "  (0, 259)\t0.10129332254415166\n",
      "  (0, 2522)\t0.10366743476900628\n",
      "  (0, 2602)\t0.08283665326117537\n",
      "  (0, 1545)\t0.16085177384999225\n",
      "  (0, 4750)\t0.16931739657518186\n",
      "  (0, 4749)\t0.17228950162831658\n",
      "  (0, 123)\t0.1365061828316163\n",
      "  (0, 2118)\t0.18146931206011138\n",
      "  (0, 825)\t0.10829241718907527\n",
      "  (0, 2228)\t0.36293862412022276\n",
      "  (0, 653)\t0.36745445881328187\n",
      "  (0, 1356)\t0.36745445881328187\n",
      "  (0, 2303)\t0.1352139458615303\n",
      "  (0, 1863)\t0.18372722940664094\n",
      "  (0, 983)\t0.15982588233516806\n",
      "  (0, 2297)\t0.17390187804411347\n",
      "  (0, 2987)\t0.12626901528483417\n",
      "  (0, 4210)\t0.18372722940664094\n",
      "  (0, 3317)\t0.10536899015944598\n",
      "  (0, 2737)\t0.18372722940664094\n",
      "  (0, 1098)\t0.14707587573325293\n",
      "  (0, 2639)\t0.1049338827009212\n",
      "  (0, 2291)\t0.117622275355615\n",
      "  (0, 2415)\t0.10104145562430007\n",
      "  :\t:\n",
      "  (2973, 4229)\t0.07615346283438947\n",
      "  (2973, 1541)\t0.14264507080480296\n",
      "  (2973, 4564)\t0.09378942575181602\n",
      "  (2973, 2371)\t0.09407684049182226\n",
      "  (2973, 971)\t0.11300468056108538\n",
      "  (2973, 7)\t0.13389066097386207\n",
      "  (2973, 3275)\t0.0571811310851007\n",
      "  (2973, 4979)\t0.0793051540593611\n",
      "  (2973, 647)\t0.06884230047070289\n",
      "  (2973, 555)\t0.07785591698631524\n",
      "  (2973, 4770)\t0.1055334558520631\n",
      "  (2973, 4622)\t0.10831094922460456\n",
      "  (2973, 2601)\t0.06565877733073584\n",
      "  (2973, 2884)\t0.09935830383246014\n",
      "  (2973, 3622)\t0.07557944083080907\n",
      "  (2973, 3489)\t0.06440099291747758\n",
      "  (2973, 4410)\t0.05652554687156954\n",
      "  (2973, 4975)\t0.056654928892740146\n",
      "  (2973, 1347)\t0.3060243411056222\n",
      "  (2973, 628)\t0.06321876214751442\n",
      "  (2973, 3379)\t0.06538722047320801\n",
      "  (2973, 1884)\t0.08778707062239406\n",
      "  (2973, 4882)\t0.05075461618885233\n",
      "  (2973, 1924)\t0.10209066391146997\n",
      "  (2973, 104)\t0.10309979867310572\n"
     ]
    }
   ],
   "source": [
    "#Initializing the Tf-Idf Vectorizer\n",
    "tfidf_vectorizer = TfidfVectorizer(max_features=5000)\n",
    "\n",
    "#Fitting the data\n",
    "X_tfidf = tfidf_vectorizer.fit_transform(lemmatized_tokens)\n",
    "print(X_tfidf)"
   ]
  },
  {
   "cell_type": "code",
   "execution_count": 116,
   "id": "66eb7956",
   "metadata": {},
   "outputs": [
    {
     "name": "stdout",
     "output_type": "stream",
     "text": [
      "(2974, 5000)\n"
     ]
    }
   ],
   "source": [
    "print(X_tfidf.shape)"
   ]
  },
  {
   "cell_type": "markdown",
   "id": "d047907b",
   "metadata": {},
   "source": [
    "### 4. Model Training"
   ]
  },
  {
   "cell_type": "code",
   "execution_count": 122,
   "id": "78793743",
   "metadata": {},
   "outputs": [
    {
     "name": "stdout",
     "output_type": "stream",
     "text": [
      "(2081, 5000)\n",
      "(893, 5000)\n",
      "(2081,)\n",
      "(893,)\n"
     ]
    }
   ],
   "source": [
    "#Train-Test Split\n",
    "\n",
    "X_train, X_test, y_train, y_test = train_test_split(X_tfidf, news_groups.target, train_size=0.7, random_state=42)\n",
    "\n",
    "#Checking the shapes\n",
    "print(X_train.shape)\n",
    "print(X_test.shape)\n",
    "print(y_train.shape)\n",
    "print(y_test.shape)"
   ]
  },
  {
   "cell_type": "markdown",
   "id": "099c9877",
   "metadata": {},
   "source": [
    "##### - Naive Bayes"
   ]
  },
  {
   "cell_type": "code",
   "execution_count": 124,
   "id": "e8efdc8e",
   "metadata": {},
   "outputs": [],
   "source": [
    "#Initializing the NB Model\n",
    "nb_model = MultinomialNB()\n",
    "\n",
    "#Fitting the train data on the NB Model\n",
    "nb_model.fit(X_train, y_train)\n",
    "\n",
    "#Predicting the output from the test data\n",
    "y_pred_nb = nb_model.predict(X_test)"
   ]
  },
  {
   "cell_type": "markdown",
   "id": "a0322198",
   "metadata": {},
   "source": [
    "##### - Logistic Regression"
   ]
  },
  {
   "cell_type": "code",
   "execution_count": 126,
   "id": "526ffd72",
   "metadata": {},
   "outputs": [],
   "source": [
    "#Initializing the Logistig Regression Model\n",
    "lr_model = LogisticRegression()\n",
    "\n",
    "#Fitting the train data on the NB Model\n",
    "lr_model.fit(X_train, y_train)\n",
    "\n",
    "#Predicting the output from the test data\n",
    "y_pred_lr = lr_model.predict(X_test)"
   ]
  },
  {
   "cell_type": "markdown",
   "id": "b85d5d4b",
   "metadata": {},
   "source": [
    "##### - Support Vector Machine (SVM)"
   ]
  },
  {
   "cell_type": "code",
   "execution_count": 130,
   "id": "c7f7c651",
   "metadata": {},
   "outputs": [],
   "source": [
    "#Initializing the Logistig Regression Model\n",
    "svc_model = SVC()\n",
    "\n",
    "#Fitting the train data on the NB Model\n",
    "svc_model.fit(X_train, y_train)\n",
    "\n",
    "#Predicting the output from the test data\n",
    "y_pred_svc = svc_model.predict(X_test)"
   ]
  },
  {
   "cell_type": "markdown",
   "id": "8ffcf86c",
   "metadata": {},
   "source": [
    "##### - Random Forest"
   ]
  },
  {
   "cell_type": "code",
   "execution_count": 132,
   "id": "4e8c811b",
   "metadata": {},
   "outputs": [],
   "source": [
    "#Initializing the Logistig Regression Model\n",
    "rf_model = RandomForestClassifier()\n",
    "\n",
    "#Fitting the train data on the NB Model\n",
    "rf_model.fit(X_train, y_train)\n",
    "\n",
    "#Predicting the output from the test data\n",
    "y_pred_rf = rf_model.predict(X_test)"
   ]
  },
  {
   "cell_type": "markdown",
   "id": "428beb5d",
   "metadata": {},
   "source": [
    "### 5. Model Evaluation"
   ]
  },
  {
   "cell_type": "code",
   "execution_count": 189,
   "id": "d9a85be8",
   "metadata": {},
   "outputs": [],
   "source": [
    "#Function for evaluation\n",
    "accuracy_scores = []\n",
    "precision_scores = []\n",
    "recall_scores = []\n",
    "f1_scores = []\n",
    "def model_evaluation(y_true, y_predicted, model_name):\n",
    "    print(f\"Evaluation of the model: {model_name}\")\n",
    "    \n",
    "    accuracy = accuracy_score(y_true, y_predicted)*100\n",
    "    accuracy_scores.append(accuracy)\n",
    "    print(f\"Accuracy: {accuracy:.2f}%\")\n",
    "    \n",
    "    precision = precision_score(y_true, y_predicted, average='macro')*100\n",
    "    precision_scores.append(precision)\n",
    "    print(f\"Precision: {precision:.2f}%\")\n",
    "    \n",
    "    recall = recall_score(y_true, y_predicted, average='macro')*100\n",
    "    recall_scores.append(recall)\n",
    "    print(f\"Recall: {recall:.2f}%\")\n",
    "    \n",
    "    f1 = f1_score(y_true, y_predicted, average='macro')*100\n",
    "    f1_scores.append(f1)\n",
    "    print(f\"F1-score: {f1:.2f}%\")"
   ]
  },
  {
   "cell_type": "code",
   "execution_count": 190,
   "id": "aec15e05",
   "metadata": {},
   "outputs": [
    {
     "name": "stdout",
     "output_type": "stream",
     "text": [
      "Evaluation of the model: Naive Bayes\n",
      "Accuracy: 87.79%\n",
      "Precision: 87.93%\n",
      "Recall: 87.91%\n",
      "F1-score: 87.70%\n"
     ]
    }
   ],
   "source": [
    "#Naive Bayes Evaluation\n",
    "model_evaluation(y_test, y_pred_nb, \"Naive Bayes\")"
   ]
  },
  {
   "cell_type": "code",
   "execution_count": 191,
   "id": "5ee384f8",
   "metadata": {},
   "outputs": [
    {
     "name": "stdout",
     "output_type": "stream",
     "text": [
      "Evaluation of the model: Logistic Regression\n",
      "Accuracy: 86.90%\n",
      "Precision: 87.68%\n",
      "Recall: 86.93%\n",
      "F1-score: 87.16%\n"
     ]
    }
   ],
   "source": [
    "#Logistic Regression Evaluation\n",
    "model_evaluation(y_test, y_pred_lr, \"Logistic Regression\")"
   ]
  },
  {
   "cell_type": "code",
   "execution_count": 192,
   "id": "8ec8302e",
   "metadata": {},
   "outputs": [
    {
     "name": "stdout",
     "output_type": "stream",
     "text": [
      "Evaluation of the model: SVC\n",
      "Accuracy: 85.89%\n",
      "Precision: 87.08%\n",
      "Recall: 85.87%\n",
      "F1-score: 86.23%\n"
     ]
    }
   ],
   "source": [
    "#SVC Evaluation\n",
    "model_evaluation(y_test, y_pred_svc, \"SVC\")"
   ]
  },
  {
   "cell_type": "code",
   "execution_count": 193,
   "id": "14d1d8c9",
   "metadata": {},
   "outputs": [
    {
     "name": "stdout",
     "output_type": "stream",
     "text": [
      "Evaluation of the model: Random Forest\n",
      "Accuracy: 79.84%\n",
      "Precision: 81.49%\n",
      "Recall: 79.97%\n",
      "F1-score: 80.40%\n"
     ]
    }
   ],
   "source": [
    "#Random Forest Evaluation\n",
    "model_evaluation(y_test, y_pred_rf, \"Random Forest\")"
   ]
  },
  {
   "cell_type": "markdown",
   "id": "c67ee113",
   "metadata": {},
   "source": [
    "### 6. Result visualization"
   ]
  },
  {
   "cell_type": "code",
   "execution_count": 195,
   "id": "7f8049af",
   "metadata": {},
   "outputs": [],
   "source": [
    "models = [\"Naive Bayes\", \"Logistic Regression\", \"SVC\", \"Random Forest\"]"
   ]
  },
  {
   "cell_type": "code",
   "execution_count": 201,
   "id": "7fc87341",
   "metadata": {},
   "outputs": [
    {
     "data": {
      "image/png": "[encoded data removed]",
      "text/plain": [
       "<Figure size 640x480 with 1 Axes>"
      ]
     },
     "metadata": {},
     "output_type": "display_data"
    }
   ],
   "source": [
    "plt.plot(models, accuracy_scores)\n",
    "plt.plot(models, precision_scores)\n",
    "plt.plot(models, recall_scores)\n",
    "plt.plot(models, f1_scores)\n",
    "\n",
    "plt.xlabel(\"Model\")\n",
    "plt.ylabel(\"Score\")\n",
    "plt.title(\"Model comparison\")\n",
    "\n",
    "plt.show()"
   ]
  },
  {
   "cell_type": "markdown",
   "id": "638c37b3",
   "metadata": {},
   "source": [
    "### 7. Fine Tuning of the best model"
   ]
  },
  {
   "cell_type": "code",
   "execution_count": 206,
   "id": "19e36640",
   "metadata": {},
   "outputs": [],
   "source": [
    "#GridSearch parameters\n",
    "\n",
    "param_grid = {\n",
    "    \"alpha\": [0.1, 0.5, 1, 2],\n",
    "    \"fit_prior\": [True, False]\n",
    "}"
   ]
  },
  {
   "cell_type": "code",
   "execution_count": 207,
   "id": "ae0c165a",
   "metadata": {},
   "outputs": [
    {
     "name": "stdout",
     "output_type": "stream",
     "text": [
      "Fitting 5 folds for each of 8 candidates, totalling 40 fits\n"
     ]
    },
    {
     "data": {
      "text/plain": [
       "GridSearchCV(cv=5, estimator=MultinomialNB(),\n",
       "             param_grid={'alpha': [0.1, 0.5, 1, 2], 'fit_prior': [True, False]},\n",
       "             scoring='f1_weighted', verbose=1)"
      ]
     },
     "execution_count": 207,
     "metadata": {},
     "output_type": "execute_result"
    }
   ],
   "source": [
    "#GridSearch\n",
    "\n",
    "grid_search = GridSearchCV(estimator = nb_model, param_grid=param_grid, scoring=\"f1_weighted\", cv=5, verbose=1)\n",
    "\n",
    "#Fit the model\n",
    "grid_search.fit(X_train, y_train)"
   ]
  },
  {
   "cell_type": "code",
   "execution_count": 211,
   "id": "4733bd3e",
   "metadata": {},
   "outputs": [
    {
     "name": "stdout",
     "output_type": "stream",
     "text": [
      "Best parameters: {'alpha': 0.1, 'fit_prior': False}\n",
      "Best score: 89.28%\n"
     ]
    }
   ],
   "source": [
    "#Best parameters\n",
    "print(f\"Best parameters: {grid_search.best_params_}\")\n",
    "print(f\"Best score: {grid_search.best_score_*100:.2f}%\")"
   ]
  },
  {
   "cell_type": "code",
   "execution_count": 214,
   "id": "c6aea05d",
   "metadata": {},
   "outputs": [
    {
     "name": "stdout",
     "output_type": "stream",
     "text": [
      "F1-score on test data: 88.89%\n"
     ]
    }
   ],
   "source": [
    "#Evaluation on test data\n",
    "best_model = grid_search.best_estimator_\n",
    "\n",
    "#Predicting with the best model\n",
    "y_predicted = best_model.predict(X_test)\n",
    "print(f\"F1-score on test data: {f1_score(y_test, y_predicted, average='macro')*100:.2f}%\")"
   ]
  },
  {
   "cell_type": "code",
   "execution_count": 216,
   "id": "9989308f",
   "metadata": {},
   "outputs": [
    {
     "name": "stdout",
     "output_type": "stream",
     "text": [
      "              precision    recall  f1-score   support\n",
      "\n",
      "           0       0.78      0.87      0.82       175\n",
      "           1       0.95      0.90      0.92       161\n",
      "           2       0.92      0.93      0.92       181\n",
      "           3       0.87      0.83      0.85       185\n",
      "           4       0.94      0.91      0.92       191\n",
      "\n",
      "    accuracy                           0.89       893\n",
      "   macro avg       0.89      0.89      0.89       893\n",
      "weighted avg       0.89      0.89      0.89       893\n",
      "\n"
     ]
    }
   ],
   "source": [
    "#Classification report\n",
    "print(classification_report(y_test, y_predicted))"
   ]
  }
 ],
 "metadata": {
  "kernelspec": {
   "display_name": "Python 3 (ipykernel)",
   "language": "python",
   "name": "python3"
  },
  "language_info": {
   "codemirror_mode": {
    "name": "ipython",
    "version": 3
   },
   "file_extension": ".py",
   "mimetype": "text/x-python",
   "name": "python",
   "nbconvert_exporter": "python",
   "pygments_lexer": "ipython3",
   "version": "3.9.13"
  }
 },
 "nbformat": 4,
 "nbformat_minor": 5
}
