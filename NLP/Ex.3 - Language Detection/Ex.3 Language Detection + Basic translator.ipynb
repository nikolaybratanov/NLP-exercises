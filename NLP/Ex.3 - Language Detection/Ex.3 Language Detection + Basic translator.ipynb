{
 "cells": [
  {
   "cell_type": "code",
   "execution_count": 2,
   "id": "adc7ed82",
   "metadata": {},
   "outputs": [
    {
     "name": "stdout",
     "output_type": "stream",
     "text": [
      "Collecting langdetect\n",
      "  Downloading langdetect-1.0.9.tar.gz (981 kB)\n",
      "     ------------------------------------- 981.5/981.5 kB 12.5 MB/s eta 0:00:00\n",
      "  Preparing metadata (setup.py): started\n",
      "  Preparing metadata (setup.py): finished with status 'done'\n",
      "Collecting langid\n",
      "  Downloading langid-1.1.6.tar.gz (1.9 MB)\n",
      "     ---------------------------------------- 1.9/1.9 MB 17.6 MB/s eta 0:00:00\n",
      "  Preparing metadata (setup.py): started\n",
      "  Preparing metadata (setup.py): finished with status 'done'\n",
      "Requirement already satisfied: six in c:\\users\\todor\\anaconda3\\lib\\site-packages (from langdetect) (1.16.0)\n",
      "Requirement already satisfied: numpy in c:\\users\\todor\\anaconda3\\lib\\site-packages (from langid) (1.21.5)\n",
      "Building wheels for collected packages: langdetect, langid\n",
      "  Building wheel for langdetect (setup.py): started\n",
      "  Building wheel for langdetect (setup.py): finished with status 'done'\n",
      "  Created wheel for langdetect: filename=langdetect-1.0.9-py3-none-any.whl size=993225 sha256=881395b80f4b5d8cfe5d925679037cdbbf662c6a44e20c1c836df911c98f42e9\n",
      "  Stored in directory: c:\\users\\todor\\appdata\\local\\pip\\cache\\wheels\\d1\\c1\\d9\\7e068de779d863bc8f8fc9467d85e25cfe47fa5051fff1a1bb\n",
      "  Building wheel for langid (setup.py): started\n",
      "  Building wheel for langid (setup.py): finished with status 'done'\n",
      "  Created wheel for langid: filename=langid-1.1.6-py3-none-any.whl size=1941173 sha256=741933d528b5a0dc455ff526147c857fad10ddb5b2f85e209d7fd3f865d402e6\n",
      "  Stored in directory: c:\\users\\todor\\appdata\\local\\pip\\cache\\wheels\\93\\95\\a9\\c292c9dd8cadb8f2359f1670ff198a40d47167b0be3236e1c8\n",
      "Successfully built langdetect langid\n",
      "Installing collected packages: langid, langdetect\n",
      "Successfully installed langdetect-1.0.9 langid-1.1.6\n"
     ]
    }
   ],
   "source": [
    "# Installing the langdetect library\n",
    "\n",
    "!pip install langdetect langid"
   ]
  },
  {
   "cell_type": "code",
   "execution_count": 57,
   "id": "9abf2968",
   "metadata": {},
   "outputs": [],
   "source": [
    "# Imports\n",
    "\n",
    "import pandas as pd\n",
    "import numpy as np\n",
    "import matplotlib.pyplot as plt\n",
    "import nltk\n",
    "import re\n",
    "import spacy\n",
    "\n",
    "from langdetect import detect, detect_langs\n",
    "from googletrans import Translator"
   ]
  },
  {
   "cell_type": "code",
   "execution_count": 29,
   "id": "7c4dffa4",
   "metadata": {},
   "outputs": [
    {
     "name": "stdout",
     "output_type": "stream",
     "text": [
      "Collecting en-core-web-sm==3.7.1\n",
      "  Downloading https://github.com/explosion/spacy-models/releases/download/en_core_web_sm-3.7.1/en_core_web_sm-3.7.1-py3-none-any.whl (12.8 MB)\n",
      "     --------------------------------------- 12.8/12.8 MB 17.2 MB/s eta 0:00:00\n",
      "Requirement already satisfied: spacy<3.8.0,>=3.7.2 in c:\\users\\todor\\anaconda3\\lib\\site-packages (from en-core-web-sm==3.7.1) (3.7.6)\n",
      "Requirement already satisfied: tqdm<5.0.0,>=4.38.0 in c:\\users\\todor\\anaconda3\\lib\\site-packages (from spacy<3.8.0,>=3.7.2->en-core-web-sm==3.7.1) (4.64.1)\n",
      "Requirement already satisfied: thinc<8.3.0,>=8.2.2 in c:\\users\\todor\\anaconda3\\lib\\site-packages (from spacy<3.8.0,>=3.7.2->en-core-web-sm==3.7.1) (8.2.5)\n",
      "Requirement already satisfied: typer<1.0.0,>=0.3.0 in c:\\users\\todor\\anaconda3\\lib\\site-packages (from spacy<3.8.0,>=3.7.2->en-core-web-sm==3.7.1) (0.12.5)\n",
      "Requirement already satisfied: weasel<0.5.0,>=0.1.0 in c:\\users\\todor\\anaconda3\\lib\\site-packages (from spacy<3.8.0,>=3.7.2->en-core-web-sm==3.7.1) (0.4.1)\n",
      "Requirement already satisfied: numpy>=1.19.0 in c:\\users\\todor\\anaconda3\\lib\\site-packages (from spacy<3.8.0,>=3.7.2->en-core-web-sm==3.7.1) (1.21.5)\n",
      "Requirement already satisfied: setuptools in c:\\users\\todor\\anaconda3\\lib\\site-packages (from spacy<3.8.0,>=3.7.2->en-core-web-sm==3.7.1) (63.4.1)\n",
      "Requirement already satisfied: packaging>=20.0 in c:\\users\\todor\\anaconda3\\lib\\site-packages (from spacy<3.8.0,>=3.7.2->en-core-web-sm==3.7.1) (21.3)\n",
      "Requirement already satisfied: preshed<3.1.0,>=3.0.2 in c:\\users\\todor\\anaconda3\\lib\\site-packages (from spacy<3.8.0,>=3.7.2->en-core-web-sm==3.7.1) (3.0.9)\n",
      "Requirement already satisfied: spacy-loggers<2.0.0,>=1.0.0 in c:\\users\\todor\\anaconda3\\lib\\site-packages (from spacy<3.8.0,>=3.7.2->en-core-web-sm==3.7.1) (1.0.5)\n",
      "Requirement already satisfied: wasabi<1.2.0,>=0.9.1 in c:\\users\\todor\\anaconda3\\lib\\site-packages (from spacy<3.8.0,>=3.7.2->en-core-web-sm==3.7.1) (1.1.3)\n",
      "Requirement already satisfied: pydantic!=1.8,!=1.8.1,<3.0.0,>=1.7.4 in c:\\users\\todor\\anaconda3\\lib\\site-packages (from spacy<3.8.0,>=3.7.2->en-core-web-sm==3.7.1) (2.9.1)\n",
      "Requirement already satisfied: spacy-legacy<3.1.0,>=3.0.11 in c:\\users\\todor\\anaconda3\\lib\\site-packages (from spacy<3.8.0,>=3.7.2->en-core-web-sm==3.7.1) (3.0.12)\n",
      "Requirement already satisfied: catalogue<2.1.0,>=2.0.6 in c:\\users\\todor\\anaconda3\\lib\\site-packages (from spacy<3.8.0,>=3.7.2->en-core-web-sm==3.7.1) (2.0.10)\n",
      "Requirement already satisfied: cymem<2.1.0,>=2.0.2 in c:\\users\\todor\\anaconda3\\lib\\site-packages (from spacy<3.8.0,>=3.7.2->en-core-web-sm==3.7.1) (2.0.8)\n",
      "Requirement already satisfied: jinja2 in c:\\users\\todor\\anaconda3\\lib\\site-packages (from spacy<3.8.0,>=3.7.2->en-core-web-sm==3.7.1) (2.11.3)\n",
      "Requirement already satisfied: murmurhash<1.1.0,>=0.28.0 in c:\\users\\todor\\anaconda3\\lib\\site-packages (from spacy<3.8.0,>=3.7.2->en-core-web-sm==3.7.1) (1.0.10)\n",
      "Requirement already satisfied: langcodes<4.0.0,>=3.2.0 in c:\\users\\todor\\anaconda3\\lib\\site-packages (from spacy<3.8.0,>=3.7.2->en-core-web-sm==3.7.1) (3.4.0)\n",
      "Requirement already satisfied: requests<3.0.0,>=2.13.0 in c:\\users\\todor\\anaconda3\\lib\\site-packages (from spacy<3.8.0,>=3.7.2->en-core-web-sm==3.7.1) (2.28.1)\n",
      "Requirement already satisfied: srsly<3.0.0,>=2.4.3 in c:\\users\\todor\\anaconda3\\lib\\site-packages (from spacy<3.8.0,>=3.7.2->en-core-web-sm==3.7.1) (2.4.8)\n",
      "Requirement already satisfied: language-data>=1.2 in c:\\users\\todor\\anaconda3\\lib\\site-packages (from langcodes<4.0.0,>=3.2.0->spacy<3.8.0,>=3.7.2->en-core-web-sm==3.7.1) (1.2.0)\n",
      "Requirement already satisfied: pyparsing!=3.0.5,>=2.0.2 in c:\\users\\todor\\anaconda3\\lib\\site-packages (from packaging>=20.0->spacy<3.8.0,>=3.7.2->en-core-web-sm==3.7.1) (3.0.9)\n",
      "Requirement already satisfied: pydantic-core==2.23.3 in c:\\users\\todor\\anaconda3\\lib\\site-packages (from pydantic!=1.8,!=1.8.1,<3.0.0,>=1.7.4->spacy<3.8.0,>=3.7.2->en-core-web-sm==3.7.1) (2.23.3)\n",
      "Requirement already satisfied: annotated-types>=0.6.0 in c:\\users\\todor\\anaconda3\\lib\\site-packages (from pydantic!=1.8,!=1.8.1,<3.0.0,>=1.7.4->spacy<3.8.0,>=3.7.2->en-core-web-sm==3.7.1) (0.7.0)\n",
      "Requirement already satisfied: typing-extensions>=4.6.1 in c:\\users\\todor\\anaconda3\\lib\\site-packages (from pydantic!=1.8,!=1.8.1,<3.0.0,>=1.7.4->spacy<3.8.0,>=3.7.2->en-core-web-sm==3.7.1) (4.12.2)\n",
      "Requirement already satisfied: certifi>=2017.4.17 in c:\\users\\todor\\anaconda3\\lib\\site-packages (from requests<3.0.0,>=2.13.0->spacy<3.8.0,>=3.7.2->en-core-web-sm==3.7.1) (2022.9.14)\n",
      "Requirement already satisfied: idna<4,>=2.5 in c:\\users\\todor\\anaconda3\\lib\\site-packages (from requests<3.0.0,>=2.13.0->spacy<3.8.0,>=3.7.2->en-core-web-sm==3.7.1) (3.3)\n",
      "Requirement already satisfied: charset-normalizer<3,>=2 in c:\\users\\todor\\anaconda3\\lib\\site-packages (from requests<3.0.0,>=2.13.0->spacy<3.8.0,>=3.7.2->en-core-web-sm==3.7.1) (2.0.4)\n",
      "Requirement already satisfied: urllib3<1.27,>=1.21.1 in c:\\users\\todor\\anaconda3\\lib\\site-packages (from requests<3.0.0,>=2.13.0->spacy<3.8.0,>=3.7.2->en-core-web-sm==3.7.1) (1.26.11)\n",
      "Requirement already satisfied: blis<0.8.0,>=0.7.8 in c:\\users\\todor\\anaconda3\\lib\\site-packages (from thinc<8.3.0,>=8.2.2->spacy<3.8.0,>=3.7.2->en-core-web-sm==3.7.1) (0.7.11)\n",
      "Requirement already satisfied: confection<1.0.0,>=0.0.1 in c:\\users\\todor\\anaconda3\\lib\\site-packages (from thinc<8.3.0,>=8.2.2->spacy<3.8.0,>=3.7.2->en-core-web-sm==3.7.1) (0.1.5)\n",
      "Requirement already satisfied: colorama in c:\\users\\todor\\anaconda3\\lib\\site-packages (from tqdm<5.0.0,>=4.38.0->spacy<3.8.0,>=3.7.2->en-core-web-sm==3.7.1) (0.4.6)\n",
      "Requirement already satisfied: rich>=10.11.0 in c:\\users\\todor\\anaconda3\\lib\\site-packages (from typer<1.0.0,>=0.3.0->spacy<3.8.0,>=3.7.2->en-core-web-sm==3.7.1) (13.8.1)\n",
      "Requirement already satisfied: shellingham>=1.3.0 in c:\\users\\todor\\anaconda3\\lib\\site-packages (from typer<1.0.0,>=0.3.0->spacy<3.8.0,>=3.7.2->en-core-web-sm==3.7.1) (1.5.4)\n",
      "Requirement already satisfied: click>=8.0.0 in c:\\users\\todor\\anaconda3\\lib\\site-packages (from typer<1.0.0,>=0.3.0->spacy<3.8.0,>=3.7.2->en-core-web-sm==3.7.1) (8.0.4)\n",
      "Requirement already satisfied: cloudpathlib<1.0.0,>=0.7.0 in c:\\users\\todor\\anaconda3\\lib\\site-packages (from weasel<0.5.0,>=0.1.0->spacy<3.8.0,>=3.7.2->en-core-web-sm==3.7.1) (0.19.0)\n",
      "Requirement already satisfied: smart-open<8.0.0,>=5.2.1 in c:\\users\\todor\\anaconda3\\lib\\site-packages (from weasel<0.5.0,>=0.1.0->spacy<3.8.0,>=3.7.2->en-core-web-sm==3.7.1) (5.2.1)\n",
      "Requirement already satisfied: MarkupSafe>=0.23 in c:\\users\\todor\\anaconda3\\lib\\site-packages (from jinja2->spacy<3.8.0,>=3.7.2->en-core-web-sm==3.7.1) (2.0.1)\n",
      "Requirement already satisfied: marisa-trie>=0.7.7 in c:\\users\\todor\\anaconda3\\lib\\site-packages (from language-data>=1.2->langcodes<4.0.0,>=3.2.0->spacy<3.8.0,>=3.7.2->en-core-web-sm==3.7.1) (1.2.0)\n",
      "Requirement already satisfied: markdown-it-py>=2.2.0 in c:\\users\\todor\\anaconda3\\lib\\site-packages (from rich>=10.11.0->typer<1.0.0,>=0.3.0->spacy<3.8.0,>=3.7.2->en-core-web-sm==3.7.1) (3.0.0)\n",
      "Requirement already satisfied: pygments<3.0.0,>=2.13.0 in c:\\users\\todor\\anaconda3\\lib\\site-packages (from rich>=10.11.0->typer<1.0.0,>=0.3.0->spacy<3.8.0,>=3.7.2->en-core-web-sm==3.7.1) (2.18.0)\n",
      "Requirement already satisfied: mdurl~=0.1 in c:\\users\\todor\\anaconda3\\lib\\site-packages (from markdown-it-py>=2.2.0->rich>=10.11.0->typer<1.0.0,>=0.3.0->spacy<3.8.0,>=3.7.2->en-core-web-sm==3.7.1) (0.1.2)\n",
      "\u001b[38;5;2m[+] Download and installation successful\u001b[0m\n",
      "You can now load the package via spacy.load('en_core_web_sm')\n",
      "Collecting de-core-news-sm==3.7.0\n",
      "  Downloading https://github.com/explosion/spacy-models/releases/download/de_core_news_sm-3.7.0/de_core_news_sm-3.7.0-py3-none-any.whl (14.6 MB)\n",
      "     --------------------------------------- 14.6/14.6 MB 15.6 MB/s eta 0:00:00\n",
      "Requirement already satisfied: spacy<3.8.0,>=3.7.0 in c:\\users\\todor\\anaconda3\\lib\\site-packages (from de-core-news-sm==3.7.0) (3.7.6)\n",
      "Requirement already satisfied: jinja2 in c:\\users\\todor\\anaconda3\\lib\\site-packages (from spacy<3.8.0,>=3.7.0->de-core-news-sm==3.7.0) (2.11.3)\n",
      "Requirement already satisfied: preshed<3.1.0,>=3.0.2 in c:\\users\\todor\\anaconda3\\lib\\site-packages (from spacy<3.8.0,>=3.7.0->de-core-news-sm==3.7.0) (3.0.9)\n",
      "Requirement already satisfied: catalogue<2.1.0,>=2.0.6 in c:\\users\\todor\\anaconda3\\lib\\site-packages (from spacy<3.8.0,>=3.7.0->de-core-news-sm==3.7.0) (2.0.10)\n",
      "Requirement already satisfied: thinc<8.3.0,>=8.2.2 in c:\\users\\todor\\anaconda3\\lib\\site-packages (from spacy<3.8.0,>=3.7.0->de-core-news-sm==3.7.0) (8.2.5)\n",
      "Requirement already satisfied: setuptools in c:\\users\\todor\\anaconda3\\lib\\site-packages (from spacy<3.8.0,>=3.7.0->de-core-news-sm==3.7.0) (63.4.1)\n",
      "Requirement already satisfied: langcodes<4.0.0,>=3.2.0 in c:\\users\\todor\\anaconda3\\lib\\site-packages (from spacy<3.8.0,>=3.7.0->de-core-news-sm==3.7.0) (3.4.0)\n",
      "Requirement already satisfied: typer<1.0.0,>=0.3.0 in c:\\users\\todor\\anaconda3\\lib\\site-packages (from spacy<3.8.0,>=3.7.0->de-core-news-sm==3.7.0) (0.12.5)\n",
      "Requirement already satisfied: pydantic!=1.8,!=1.8.1,<3.0.0,>=1.7.4 in c:\\users\\todor\\anaconda3\\lib\\site-packages (from spacy<3.8.0,>=3.7.0->de-core-news-sm==3.7.0) (2.9.1)\n",
      "Requirement already satisfied: tqdm<5.0.0,>=4.38.0 in c:\\users\\todor\\anaconda3\\lib\\site-packages (from spacy<3.8.0,>=3.7.0->de-core-news-sm==3.7.0) (4.64.1)\n",
      "Requirement already satisfied: weasel<0.5.0,>=0.1.0 in c:\\users\\todor\\anaconda3\\lib\\site-packages (from spacy<3.8.0,>=3.7.0->de-core-news-sm==3.7.0) (0.4.1)\n",
      "Requirement already satisfied: spacy-loggers<2.0.0,>=1.0.0 in c:\\users\\todor\\anaconda3\\lib\\site-packages (from spacy<3.8.0,>=3.7.0->de-core-news-sm==3.7.0) (1.0.5)\n",
      "Requirement already satisfied: srsly<3.0.0,>=2.4.3 in c:\\users\\todor\\anaconda3\\lib\\site-packages (from spacy<3.8.0,>=3.7.0->de-core-news-sm==3.7.0) (2.4.8)\n",
      "Requirement already satisfied: packaging>=20.0 in c:\\users\\todor\\anaconda3\\lib\\site-packages (from spacy<3.8.0,>=3.7.0->de-core-news-sm==3.7.0) (21.3)\n",
      "Requirement already satisfied: numpy>=1.19.0 in c:\\users\\todor\\anaconda3\\lib\\site-packages (from spacy<3.8.0,>=3.7.0->de-core-news-sm==3.7.0) (1.21.5)\n",
      "Requirement already satisfied: murmurhash<1.1.0,>=0.28.0 in c:\\users\\todor\\anaconda3\\lib\\site-packages (from spacy<3.8.0,>=3.7.0->de-core-news-sm==3.7.0) (1.0.10)\n",
      "Requirement already satisfied: spacy-legacy<3.1.0,>=3.0.11 in c:\\users\\todor\\anaconda3\\lib\\site-packages (from spacy<3.8.0,>=3.7.0->de-core-news-sm==3.7.0) (3.0.12)\n",
      "Requirement already satisfied: requests<3.0.0,>=2.13.0 in c:\\users\\todor\\anaconda3\\lib\\site-packages (from spacy<3.8.0,>=3.7.0->de-core-news-sm==3.7.0) (2.28.1)\n",
      "Requirement already satisfied: wasabi<1.2.0,>=0.9.1 in c:\\users\\todor\\anaconda3\\lib\\site-packages (from spacy<3.8.0,>=3.7.0->de-core-news-sm==3.7.0) (1.1.3)\n",
      "Requirement already satisfied: cymem<2.1.0,>=2.0.2 in c:\\users\\todor\\anaconda3\\lib\\site-packages (from spacy<3.8.0,>=3.7.0->de-core-news-sm==3.7.0) (2.0.8)\n",
      "Requirement already satisfied: language-data>=1.2 in c:\\users\\todor\\anaconda3\\lib\\site-packages (from langcodes<4.0.0,>=3.2.0->spacy<3.8.0,>=3.7.0->de-core-news-sm==3.7.0) (1.2.0)\n",
      "Requirement already satisfied: pyparsing!=3.0.5,>=2.0.2 in c:\\users\\todor\\anaconda3\\lib\\site-packages (from packaging>=20.0->spacy<3.8.0,>=3.7.0->de-core-news-sm==3.7.0) (3.0.9)\n",
      "Requirement already satisfied: pydantic-core==2.23.3 in c:\\users\\todor\\anaconda3\\lib\\site-packages (from pydantic!=1.8,!=1.8.1,<3.0.0,>=1.7.4->spacy<3.8.0,>=3.7.0->de-core-news-sm==3.7.0) (2.23.3)\n",
      "Requirement already satisfied: typing-extensions>=4.6.1 in c:\\users\\todor\\anaconda3\\lib\\site-packages (from pydantic!=1.8,!=1.8.1,<3.0.0,>=1.7.4->spacy<3.8.0,>=3.7.0->de-core-news-sm==3.7.0) (4.12.2)\n",
      "Requirement already satisfied: annotated-types>=0.6.0 in c:\\users\\todor\\anaconda3\\lib\\site-packages (from pydantic!=1.8,!=1.8.1,<3.0.0,>=1.7.4->spacy<3.8.0,>=3.7.0->de-core-news-sm==3.7.0) (0.7.0)\n",
      "Requirement already satisfied: idna<4,>=2.5 in c:\\users\\todor\\anaconda3\\lib\\site-packages (from requests<3.0.0,>=2.13.0->spacy<3.8.0,>=3.7.0->de-core-news-sm==3.7.0) (3.3)\n",
      "Requirement already satisfied: certifi>=2017.4.17 in c:\\users\\todor\\anaconda3\\lib\\site-packages (from requests<3.0.0,>=2.13.0->spacy<3.8.0,>=3.7.0->de-core-news-sm==3.7.0) (2022.9.14)\n",
      "Requirement already satisfied: charset-normalizer<3,>=2 in c:\\users\\todor\\anaconda3\\lib\\site-packages (from requests<3.0.0,>=2.13.0->spacy<3.8.0,>=3.7.0->de-core-news-sm==3.7.0) (2.0.4)\n",
      "Requirement already satisfied: urllib3<1.27,>=1.21.1 in c:\\users\\todor\\anaconda3\\lib\\site-packages (from requests<3.0.0,>=2.13.0->spacy<3.8.0,>=3.7.0->de-core-news-sm==3.7.0) (1.26.11)\n",
      "Requirement already satisfied: blis<0.8.0,>=0.7.8 in c:\\users\\todor\\anaconda3\\lib\\site-packages (from thinc<8.3.0,>=8.2.2->spacy<3.8.0,>=3.7.0->de-core-news-sm==3.7.0) (0.7.11)\n",
      "Requirement already satisfied: confection<1.0.0,>=0.0.1 in c:\\users\\todor\\anaconda3\\lib\\site-packages (from thinc<8.3.0,>=8.2.2->spacy<3.8.0,>=3.7.0->de-core-news-sm==3.7.0) (0.1.5)\n",
      "Requirement already satisfied: colorama in c:\\users\\todor\\anaconda3\\lib\\site-packages (from tqdm<5.0.0,>=4.38.0->spacy<3.8.0,>=3.7.0->de-core-news-sm==3.7.0) (0.4.6)\n",
      "Requirement already satisfied: shellingham>=1.3.0 in c:\\users\\todor\\anaconda3\\lib\\site-packages (from typer<1.0.0,>=0.3.0->spacy<3.8.0,>=3.7.0->de-core-news-sm==3.7.0) (1.5.4)\n",
      "Requirement already satisfied: click>=8.0.0 in c:\\users\\todor\\anaconda3\\lib\\site-packages (from typer<1.0.0,>=0.3.0->spacy<3.8.0,>=3.7.0->de-core-news-sm==3.7.0) (8.0.4)\n",
      "Requirement already satisfied: rich>=10.11.0 in c:\\users\\todor\\anaconda3\\lib\\site-packages (from typer<1.0.0,>=0.3.0->spacy<3.8.0,>=3.7.0->de-core-news-sm==3.7.0) (13.8.1)\n",
      "Requirement already satisfied: cloudpathlib<1.0.0,>=0.7.0 in c:\\users\\todor\\anaconda3\\lib\\site-packages (from weasel<0.5.0,>=0.1.0->spacy<3.8.0,>=3.7.0->de-core-news-sm==3.7.0) (0.19.0)\n",
      "Requirement already satisfied: smart-open<8.0.0,>=5.2.1 in c:\\users\\todor\\anaconda3\\lib\\site-packages (from weasel<0.5.0,>=0.1.0->spacy<3.8.0,>=3.7.0->de-core-news-sm==3.7.0) (5.2.1)\n",
      "Requirement already satisfied: MarkupSafe>=0.23 in c:\\users\\todor\\anaconda3\\lib\\site-packages (from jinja2->spacy<3.8.0,>=3.7.0->de-core-news-sm==3.7.0) (2.0.1)\n",
      "Requirement already satisfied: marisa-trie>=0.7.7 in c:\\users\\todor\\anaconda3\\lib\\site-packages (from language-data>=1.2->langcodes<4.0.0,>=3.2.0->spacy<3.8.0,>=3.7.0->de-core-news-sm==3.7.0) (1.2.0)\n",
      "Requirement already satisfied: markdown-it-py>=2.2.0 in c:\\users\\todor\\anaconda3\\lib\\site-packages (from rich>=10.11.0->typer<1.0.0,>=0.3.0->spacy<3.8.0,>=3.7.0->de-core-news-sm==3.7.0) (3.0.0)\n",
      "Requirement already satisfied: pygments<3.0.0,>=2.13.0 in c:\\users\\todor\\anaconda3\\lib\\site-packages (from rich>=10.11.0->typer<1.0.0,>=0.3.0->spacy<3.8.0,>=3.7.0->de-core-news-sm==3.7.0) (2.18.0)\n",
      "Requirement already satisfied: mdurl~=0.1 in c:\\users\\todor\\anaconda3\\lib\\site-packages (from markdown-it-py>=2.2.0->rich>=10.11.0->typer<1.0.0,>=0.3.0->spacy<3.8.0,>=3.7.0->de-core-news-sm==3.7.0) (0.1.2)\n",
      "Installing collected packages: de-core-news-sm\n",
      "Successfully installed de-core-news-sm-3.7.0\n",
      "\u001b[38;5;2m[+] Download and installation successful\u001b[0m\n",
      "You can now load the package via spacy.load('de_core_news_sm')\n"
     ]
    }
   ],
   "source": [
    "# Downloads\n",
    "\n",
    "!python -m spacy download en_core_web_sm \n",
    "!python -m spacy download de_core_news_sm "
   ]
  },
  {
   "cell_type": "markdown",
   "id": "59c55b70",
   "metadata": {},
   "source": [
    "# Agenda\n",
    "\n",
    "1. Language detection\n",
    "2. Language detection with probabilities\n",
    "3. Tokenization based on detected language\n",
    "4. Basic translator\n",
    "5. Translator with user input"
   ]
  },
  {
   "cell_type": "markdown",
   "id": "07e83f8f",
   "metadata": {},
   "source": [
    "#### 1. Language detection"
   ]
  },
  {
   "cell_type": "code",
   "execution_count": 10,
   "id": "0f697738",
   "metadata": {},
   "outputs": [
    {
     "name": "stdout",
     "output_type": "stream",
     "text": [
      "The detected language is: de\n"
     ]
    }
   ],
   "source": [
    "# Detecting the language with defined text\n",
    "\n",
    "text = \"Guten Tag, wie geht es Ihnen?\"\n",
    "detected_language = detect(text)\n",
    "print(f\"The detected language is: {detected_language}\")"
   ]
  },
  {
   "cell_type": "code",
   "execution_count": 18,
   "id": "98bea5f0",
   "metadata": {},
   "outputs": [
    {
     "name": "stdout",
     "output_type": "stream",
     "text": [
      "Enter your text: Guten Tag\n",
      "The detected language is: de\n",
      "Enter your text: whats up\n",
      "The detected language is: en\n",
      "Enter your text: como esta\n",
      "The detected language is: pt\n",
      "Enter your text: me llamo Niko\n",
      "The detected language is: sw\n",
      "Enter your text: Stop\n"
     ]
    }
   ],
   "source": [
    "# Detecting the language with user input\n",
    "\n",
    "while True:\n",
    "    user_text = input(\"Enter your text: \")\n",
    "    \n",
    "    if user_text == \"Stop\":\n",
    "        break\n",
    "    else:\n",
    "        detected_language = detect(user_text)\n",
    "        print(f\"The detected language is: {detected_language}\")\n",
    "    "
   ]
  },
  {
   "cell_type": "markdown",
   "id": "24faa266",
   "metadata": {},
   "source": [
    "#### 2. Language detection with probabilities"
   ]
  },
  {
   "cell_type": "code",
   "execution_count": 21,
   "id": "2f821bc3",
   "metadata": {},
   "outputs": [
    {
     "name": "stdout",
     "output_type": "stream",
     "text": [
      "[es:0.9999920361646811]\n"
     ]
    }
   ],
   "source": [
    "# Detecting the language probability\n",
    "\n",
    "text = \"Como esta?\"\n",
    "probable_languages = detect_langs(text)\n",
    "print(probable_languages)"
   ]
  },
  {
   "cell_type": "code",
   "execution_count": 22,
   "id": "dffa2536",
   "metadata": {},
   "outputs": [
    {
     "name": "stdout",
     "output_type": "stream",
     "text": [
      "Please enter your text: hello, como este? Me llamo Niko\n",
      "Most probably you used the [es:0.9999943866096032] language.\n",
      "Please enter your text: Heeey I am Niko und wie heißt du?\n",
      "Most probably you used the [de:0.8571428772867566, so:0.1428559988650058] language.\n",
      "Please enter your text: My name is Niko und wie heißt du?\n",
      "Most probably you used the [de:0.9999972184979435] language.\n",
      "Please enter your text: me llamo Niko und du, wie ist dein Name?\n",
      "Most probably you used the [de:0.9999956634454071] language.\n",
      "Please enter your text: heey how are you today? Ich bin Niko und mir geht es gut\n",
      "Most probably you used the [en:0.5714290730882619, so:0.4285697119619247] language.\n",
      "Please enter your text: Stop\n"
     ]
    }
   ],
   "source": [
    "# Detecting the language with user input\n",
    "\n",
    "while True:\n",
    "    user_text = input(\"Please enter your text: \")\n",
    "    \n",
    "    if user_text == \"Stop\":\n",
    "        break\n",
    "    else:\n",
    "        probable_language = detect_langs(user_text)\n",
    "        print(f\"Most probably you used the {probable_language} language.\")"
   ]
  },
  {
   "cell_type": "markdown",
   "id": "0d4913b4",
   "metadata": {},
   "source": [
    "#### 3. Tokenization based on detected language"
   ]
  },
  {
   "cell_type": "markdown",
   "id": "0954c903",
   "metadata": {},
   "source": [
    "##### English"
   ]
  },
  {
   "cell_type": "code",
   "execution_count": 26,
   "id": "17edd98f",
   "metadata": {},
   "outputs": [],
   "source": [
    "# Loading the EN model\n",
    "\n",
    "nlp_en = spacy.load(\"en_core_web_sm\")"
   ]
  },
  {
   "cell_type": "code",
   "execution_count": 31,
   "id": "acba5285",
   "metadata": {},
   "outputs": [],
   "source": [
    "# English text\n",
    "text_en = \"Audi AG is a German automotive manufacturer of luxury vehicles headquartered in Ingolstadt, Bavaria, Germany. A subsidiary of the Volkswagen Group, Audi produces vehicles in nine production facilities worldwide.The origins of the company are complex, dating back to the early 20th century and the initial enterprises (Horch and the Audiwerke) founded by engineer August Horch. Two other manufacturers (DKW and Wanderer) also contributed to the foundation of Auto Union in 1932. The modern Audi era began in the 1960s, when Auto Union was acquired by Volkswagen from Daimler-Benz. After relaunching the Audi brand with the 1965 introduction of the Audi F103 series, Volkswagen merged Auto Union with NSU Motorenwerke in 1969, thus creating the present-day form of the company.The company name is based on the Latin translation of the surname of the founder, August Horch. Horch, meaning 'listen', becomes audi in Latin. The four rings of the Audi logo each represent one of four car companies that banded together to create Audi's predecessor company, Auto Union. Audi's slogan is Vorsprung durch Technik, which is translated as 'Progress through Technology'.Audi, along with German brands BMW and Mercedes-Benz, is among the best-selling luxury automobile brands in the world.\""
   ]
  },
  {
   "cell_type": "code",
   "execution_count": 35,
   "id": "4775e35f",
   "metadata": {},
   "outputs": [],
   "source": [
    "# Lowercasing\n",
    "text_en = text_en.lower()"
   ]
  },
  {
   "cell_type": "code",
   "execution_count": 36,
   "id": "0bcfdccc",
   "metadata": {},
   "outputs": [],
   "source": [
    "# Removing the special characters\n",
    "text_en = re.sub(r\"[^a-zA-Z\\s]\", \"\", text_en)"
   ]
  },
  {
   "cell_type": "code",
   "execution_count": 37,
   "id": "586bf4fb",
   "metadata": {},
   "outputs": [
    {
     "name": "stdout",
     "output_type": "stream",
     "text": [
      "English Tokens: ['audi', 'ag', 'is', 'a', 'german', 'automotive', 'manufacturer', 'of', 'luxury', 'vehicles', 'headquartered', 'in', 'ingolstadt', 'bavaria', 'germany', 'a', 'subsidiary', 'of', 'the', 'volkswagen', 'group', 'audi', 'produces', 'vehicles', 'in', 'nine', 'production', 'facilities', 'worldwidethe', 'origins', 'of', 'the', 'company', 'are', 'complex', 'dating', 'back', 'to', 'the', 'early', 'th', 'century', 'and', 'the', 'initial', 'enterprises', 'horch', 'and', 'the', 'audiwerke', 'founded', 'by', 'engineer', 'august', 'horch', 'two', 'other', 'manufacturers', 'dkw', 'and', 'wanderer', 'also', 'contributed', 'to', 'the', 'foundation', 'of', 'auto', 'union', 'in', ' ', 'the', 'modern', 'audi', 'era', 'began', 'in', 'the', 's', 'when', 'auto', 'union', 'was', 'acquired', 'by', 'volkswagen', 'from', 'daimlerbenz', 'after', 'relaunching', 'the', 'audi', 'brand', 'with', 'the', ' ', 'introduction', 'of', 'the', 'audi', 'f', 'series', 'volkswagen', 'merged', 'auto', 'union', 'with', 'nsu', 'motorenwerke', 'in', ' ', 'thus', 'creating', 'the', 'presentday', 'form', 'of', 'the', 'companythe', 'company', 'name', 'is', 'based', 'on', 'the', 'latin', 'translation', 'of', 'the', 'surname', 'of', 'the', 'founder', 'august', 'horch', 'horch', 'meaning', 'listen', 'becomes', 'audi', 'in', 'latin', 'the', 'four', 'rings', 'of', 'the', 'audi', 'logo', 'each', 'represent', 'one', 'of', 'four', 'car', 'companies', 'that', 'banded', 'together', 'to', 'create', 'audis', 'predecessor', 'company', 'auto', 'union', 'audis', 'slogan', 'is', 'vorsprung', 'durch', 'technik', 'which', 'is', 'translated', 'as', 'progress', 'through', 'technologyaudi', 'along', 'with', 'german', 'brands', 'bmw', 'and', 'mercedesbenz', 'is', 'among', 'the', 'bestselling', 'luxury', 'automobile', 'brands', 'in', 'the', 'world']\n"
     ]
    }
   ],
   "source": [
    "# Tokenization\n",
    "\n",
    "doc_en = nlp_en(text_en)\n",
    "tokens_en = [token.text for token in doc_en]\n",
    "print(\"English Tokens:\", tokens_en)"
   ]
  },
  {
   "cell_type": "markdown",
   "id": "927ba68f",
   "metadata": {},
   "source": [
    "##### German"
   ]
  },
  {
   "cell_type": "code",
   "execution_count": 49,
   "id": "60a3f3d7",
   "metadata": {},
   "outputs": [],
   "source": [
    "# Loading the DE model\n",
    "\n",
    "nlp_de = spacy.load(\"de_core_news_sm\")"
   ]
  },
  {
   "cell_type": "code",
   "execution_count": 50,
   "id": "f46dcc45",
   "metadata": {},
   "outputs": [],
   "source": [
    "# German text\n",
    "text_de = \"Die Audi AG mit Sitz in Ingolstadt in Bayern ist ein deutscher Automobilhersteller, der seit den 1960er Jahren dem Volkswagen-Konzern angehört und seit den 2000er Jahren zu den Premiumherstellern gezählt wird. Der Markenclaim des Unternehmens lautet „Vorsprung durch Technik“.Die Firma entstand, da August Horch nach Zerwürfnissen mit dem Finanzvorstand der A. Horch & Cie. Motorwagenwerke Zwickau, im damaligen Königreich Sachsen gelegen, das Unternehmen verlassen hatte. Seine Firma konnte er nicht August Horch Automobilwerke GmbH nennen, denn die Rechte an der Marke „Horch“ gehörten der A. Horch & Cie. Motorwagenwerke Zwickau. Die Lösung fand er im Vorschlag des Zwickauer Gymnasiasten Heinrich Fikentscher (Sohn des mit August Horch befreundeten Franz Fikentscher), der Horch ins Latein übersetzte. Audi ist der Imperativ Singular von audire (zu Deutsch hören, zuhören) und bedeutet „Höre!“ oder eben „Horch!“. Am 25. April 1910 wurde die Audi Automobilwerke GmbH Zwickau in das Handelsregister der Stadt Zwickau eingetragen.Im Jahr 1928 übernahm der Kleinwagen- und Motorradproduzent Zschopauer Motorenwerke J. S. Rasmussen AG, bekannt durch seine Marke DKW, die Audiwerke AG Zwickau. Beide Unternehmen gingen in der Mitte 1932 gegründeten Auto Union AG, Chemnitz auf, zu der noch die Zwickauer Horchwerke AG und das Fahrzeugwerk Siegmar der Wanderer-Werke in Schönau bei Chemnitz gehörten. Symbolisch zum Ausdruck kam der Zusammenschluss der vier Pkw-Marken Audi, DKW, Horch und Wanderer im Auto-Union-Firmenzeichen mit den verschlungenen Ringen, dem heutigen Audi-Logo. In den 1930er Jahren gehörten die DKW F 1 bis F 8 sowie die beiden Audi-Modelle UW und 225 zu den Pionieren des Frontantriebs in Deutschland.Nach dem Zweiten Weltkrieg wurde 1949 eine neue Auto Union GmbH in Ingolstadt (Bayern) gegründet. Dort liefen, neben DKW-Motorrädern (RT 125 W), zunächst Schnellaster vom Band und ab 1950 baute das neue Werk Düsseldorf-Derendorf die F-89-Pkw, beides Modelle mit Frontantrieb. 1958 erwarb Daimler-Benz eine Mehrheit am Stammkapital der Auto Union und in der Folge fertigte das Düsseldorfer Werk leichte Mercedes-Transporter. Ab 1964 übernahm schrittweise der Volkswagen-Konzern die Auto Union. Sie hatte bis dahin nur Pkw mit Zweitaktmotoren unter der Marke DKW gebaut, bis 1965 das Modell Audi mit Viertaktmotor unter der Traditionsmarke aus der Vorkriegszeit auf den Markt kam. Im Zuge der Fusion mit den NSU Motorenwerken entstand im Jahr 1969 die Audi NSU Auto Union AG. Dem Fusionspartner entsprechend war deren Sitz bis 1985 Neckarsulm, bevor infolge des Auslaufens der Marke NSU die Firma auf Audi AG verkürzt wurde und der Sitz wieder zurück nach Ingolstadt wechselte.Zur Audi AG gehören seit 1998 der Sportwagenhersteller Lamborghini und seit 2012 der Motorradhersteller Ducati.\""
   ]
  },
  {
   "cell_type": "code",
   "execution_count": 51,
   "id": "6565a25a",
   "metadata": {},
   "outputs": [],
   "source": [
    "# Lowercasing\n",
    "text_de = text_de.lower()"
   ]
  },
  {
   "cell_type": "code",
   "execution_count": 53,
   "id": "a969cd3f",
   "metadata": {},
   "outputs": [],
   "source": [
    "# Removing the special characters\n",
    "text_de = re.sub(r\"[^a-zA-Z\\s]\", \"r\", text_de)"
   ]
  },
  {
   "cell_type": "code",
   "execution_count": 55,
   "id": "ad404ff9",
   "metadata": {},
   "outputs": [
    {
     "name": "stdout",
     "output_type": "stream",
     "text": [
      "German tokens:  ['die', 'audi', 'ag', 'mit', 'sitz', 'in', 'ingolstadt', 'in', 'bayern', 'ist', 'ein', 'deutscher', 'automobilherstellerr', 'der', 'seit', 'den', 'rrrrer', 'jahren', 'dem', 'volkswagenrkonzern', 'angehrrt', 'und', 'seit', 'den', 'rrrrer', 'jahren', 'zu', 'den', 'premiumherstellern', 'gezrhlt', 'wirdr', 'der', 'markenclaim', 'des', 'unternehmens', 'lautet', 'rvorsprung', 'durch', 'technikrrdie', 'firma', 'entstandr', 'da', 'august', 'horch', 'nach', 'zerwrrfnissen', 'mit', 'dem', 'finanzvorstand', 'der', 'ar', 'horch', 'r', 'cier', 'motorwagenwerke', 'zwickaur', 'im', 'damaligen', 'krnigreich', 'sachsen', 'gelegenr', 'das', 'unternehmen', 'verlassen', 'hatter', 'seine', 'firma', 'konnte', 'er', 'nicht', 'august', 'horch', 'automobilwerke', 'gmbh', 'nennenr', 'denn', 'die', 'rechte', 'an', 'der', 'marke', 'rhorchr', 'gehrrten', 'der', 'ar', 'horch', 'r', 'cier', 'motorwagenwerke', 'zwickaur', 'die', 'lrsung', 'fand', 'er', 'im', 'vorschlag', 'des', 'zwickauer', 'gymnasiasten', 'heinrich', 'fikentscher', 'rsohn', 'des', 'mit', 'august', 'horch', 'befreundeten', 'franz', 'fikentscherrr', 'der', 'horch', 'ins', 'latein', 'rbersetzter', 'audi', 'ist', 'der', 'imperativ', 'singular', 'von', 'audire', 'rzu', 'deutsch', 'hrrenr', 'zuhrrenr', 'und', 'bedeutet', 'rhrrerr', 'oder', 'eben', 'rhorchrrr', 'am', 'rrr', 'april', 'rrrr', 'wurde', 'die', 'audi', 'automobilwerke', 'gmbh', 'zwickau', 'in', 'das', 'handelsregister', 'der', 'stadt', 'zwickau', 'eingetragenrim', 'jahr', 'rrrr', 'rbernahm', 'der', 'kleinwagenr', 'und', 'motorradproduzent', 'zschopauer', 'motorenwerke', 'jr', 'sr', 'rasmussen', 'agr', 'bekannt', 'durch', 'seine', 'marke', 'dkwr', 'die', 'audiwerke', 'ag', 'zwickaur', 'beide', 'unternehmen', 'gingen', 'in', 'der', 'mitte', 'rrrr', 'gegrrndeten', 'auto', 'union', 'agr', 'chemnitz', 'aufr', 'zu', 'der', 'noch', 'die', 'zwickauer', 'horchwerke', 'ag', 'und', 'das', 'fahrzeugwerk', 'siegmar', 'der', 'wandererrwerke', 'in', 'schrnau', 'bei', 'chemnitz', 'gehrrtenr', 'symbolisch', 'zum', 'ausdruck', 'kam', 'der', 'zusammenschluss', 'der', 'vier', 'pkwrmarken', 'audir', 'dkwr', 'horch', 'und', 'wanderer', 'im', 'autorunionrfirmenzeichen', 'mit', 'den', 'verschlungenen', 'ringenr', 'dem', 'heutigen', 'audirlogor', 'in', 'den', 'rrrrer', 'jahren', 'gehrrten', 'die', 'dkw', 'f', 'r', 'bis', 'f', 'r', 'sowie', 'die', 'beiden', 'audirmodelle', 'uw', 'und', 'rrr', 'zu', 'den', 'pionieren', 'des', 'frontantriebs', 'in', 'deutschlandrnach', 'dem', 'zweiten', 'weltkrieg', 'wurde', 'rrrr', 'eine', 'neue', 'auto', 'union', 'gmbh', 'in', 'ingolstadt', 'rbayernr', 'gegrrndetr', 'dort', 'liefenr', 'neben', 'dkwrmotorrrdern', 'rrt', 'rrr', 'wrr', 'zunrchst', 'schnellaster', 'vom', 'band', 'und', 'ab', 'rrrr', 'baute', 'das', 'neue', 'werk', 'drsseldorfrderendorf', 'die', 'frrrrpkwr', 'beides', 'modelle', 'mit', 'frontantriebr', 'rrrr', 'erwarb', 'daimlerrbenz', 'eine', 'mehrheit', 'am', 'stammkapital', 'der', 'auto', 'union', 'und', 'in', 'der', 'folge', 'fertigte', 'das', 'drsseldorfer', 'werk', 'leichte', 'mercedesrtransporterr', 'ab', 'rrrr', 'rbernahm', 'schrittweise', 'der', 'volkswagenrkonzern', 'die', 'auto', 'unionr', 'sie', 'hatte', 'bis', 'dahin', 'nur', 'pkw', 'mit', 'zweitaktmotoren', 'unter', 'der', 'marke', 'dkw', 'gebautr', 'bis', 'rrrr', 'das', 'modell', 'audi', 'mit', 'viertaktmotor', 'unter', 'der', 'traditionsmarke', 'aus', 'der', 'vorkriegszeit', 'auf', 'den', 'markt', 'kamr', 'im', 'zuge', 'der', 'fusion', 'mit', 'den', 'nsu', 'motorenwerken', 'entstand', 'im', 'jahr', 'rrrr', 'die', 'audi', 'nsu', 'auto', 'union', 'agr', 'dem', 'fusionspartner', 'entsprechend', 'war', 'deren', 'sitz', 'bis', 'rrrr', 'neckarsulmr', 'bevor', 'infolge', 'des', 'auslaufens', 'der', 'marke', 'nsu', 'die', 'firma', 'auf', 'audi', 'ag', 'verkrrzt', 'wurde', 'und', 'der', 'sitz', 'wieder', 'zurrck', 'nach', 'ingolstadt', 'wechselterzur', 'audi', 'ag', 'gehrren', 'seit', 'rrrr', 'der', 'sportwagenhersteller', 'lamborghini', 'und', 'seit', 'rrrr', 'der', 'motorradhersteller', 'ducatir']\n"
     ]
    }
   ],
   "source": [
    "doc_de = nlp_de(text_de)\n",
    "tokens_de = [token.text for token in doc_de]\n",
    "print(\"German tokens: \",tokens_de)"
   ]
  },
  {
   "cell_type": "markdown",
   "id": "eb1412a3",
   "metadata": {},
   "source": [
    "#### 4. Basic translator"
   ]
  },
  {
   "cell_type": "code",
   "execution_count": 56,
   "id": "a2faa047",
   "metadata": {},
   "outputs": [
    {
     "name": "stdout",
     "output_type": "stream",
     "text": [
      "Collecting googletrans==4.0.0-rc1\n",
      "  Downloading googletrans-4.0.0rc1.tar.gz (20 kB)\n",
      "  Preparing metadata (setup.py): started\n",
      "  Preparing metadata (setup.py): finished with status 'done'\n",
      "Collecting httpx==0.13.3\n",
      "  Downloading httpx-0.13.3-py3-none-any.whl (55 kB)\n",
      "     ---------------------------------------- 55.1/55.1 kB 2.8 MB/s eta 0:00:00\n",
      "Collecting chardet==3.*\n",
      "  Downloading chardet-3.0.4-py2.py3-none-any.whl (133 kB)\n",
      "     ---------------------------------------- 133.4/133.4 kB ? eta 0:00:00\n",
      "Collecting idna==2.*\n",
      "  Downloading idna-2.10-py2.py3-none-any.whl (58 kB)\n",
      "     ---------------------------------------- 58.8/58.8 kB ? eta 0:00:00\n",
      "Requirement already satisfied: sniffio in c:\\users\\todor\\anaconda3\\lib\\site-packages (from httpx==0.13.3->googletrans==4.0.0-rc1) (1.2.0)\n",
      "Collecting hstspreload\n",
      "  Downloading hstspreload-2024.9.1-py3-none-any.whl (1.2 MB)\n",
      "     ---------------------------------------- 1.2/1.2 MB 12.6 MB/s eta 0:00:00\n",
      "Collecting httpcore==0.9.*\n",
      "  Downloading httpcore-0.9.1-py3-none-any.whl (42 kB)\n",
      "     ---------------------------------------- 42.6/42.6 kB ? eta 0:00:00\n",
      "Collecting rfc3986<2,>=1.3\n",
      "  Downloading rfc3986-1.5.0-py2.py3-none-any.whl (31 kB)\n",
      "Requirement already satisfied: certifi in c:\\users\\todor\\anaconda3\\lib\\site-packages (from httpx==0.13.3->googletrans==4.0.0-rc1) (2022.9.14)\n",
      "Collecting h2==3.*\n",
      "  Downloading h2-3.2.0-py2.py3-none-any.whl (65 kB)\n",
      "     ---------------------------------------- 65.0/65.0 kB ? eta 0:00:00\n",
      "Collecting h11<0.10,>=0.8\n",
      "  Downloading h11-0.9.0-py2.py3-none-any.whl (53 kB)\n",
      "     ---------------------------------------- 53.6/53.6 kB 2.9 MB/s eta 0:00:00\n",
      "Collecting hpack<4,>=3.0\n",
      "  Downloading hpack-3.0.0-py2.py3-none-any.whl (38 kB)\n",
      "Collecting hyperframe<6,>=5.2.0\n",
      "  Downloading hyperframe-5.2.0-py2.py3-none-any.whl (12 kB)\n",
      "Building wheels for collected packages: googletrans\n",
      "  Building wheel for googletrans (setup.py): started\n",
      "  Building wheel for googletrans (setup.py): finished with status 'done'\n",
      "  Created wheel for googletrans: filename=googletrans-4.0.0rc1-py3-none-any.whl size=17411 sha256=b49edecec5cefe7aa5947219b91f8b5694aa760cc0256e97baf2a9f60fa9df82\n",
      "  Stored in directory: c:\\users\\todor\\appdata\\local\\pip\\cache\\wheels\\60\\b3\\27\\d8aff3e2d5c2d0d97a117cdf0d5f13cd121e2c2b5fb49b55a0\n",
      "Successfully built googletrans\n",
      "Installing collected packages: rfc3986, hyperframe, hpack, h11, chardet, idna, hstspreload, h2, httpcore, httpx, googletrans\n",
      "  Attempting uninstall: chardet\n",
      "    Found existing installation: chardet 4.0.0\n",
      "    Uninstalling chardet-4.0.0:\n",
      "      Successfully uninstalled chardet-4.0.0\n",
      "  Attempting uninstall: idna\n",
      "    Found existing installation: idna 3.3\n",
      "    Uninstalling idna-3.3:\n",
      "      Successfully uninstalled idna-3.3\n",
      "Successfully installed chardet-3.0.4 googletrans-4.0.0rc1 h11-0.9.0 h2-3.2.0 hpack-3.0.0 hstspreload-2024.9.1 httpcore-0.9.1 httpx-0.13.3 hyperframe-5.2.0 idna-2.10 rfc3986-1.5.0\n"
     ]
    },
    {
     "name": "stderr",
     "output_type": "stream",
     "text": [
      "ERROR: pip's dependency resolver does not currently take into account all the packages that are installed. This behaviour is the source of the following dependency conflicts.\n",
      "spyder 5.2.2 requires pyqt5<5.13, which is not installed.\n",
      "spyder 5.2.2 requires pyqtwebengine<5.13, which is not installed.\n",
      "anaconda-project 0.11.1 requires ruamel-yaml, which is not installed.\n",
      "conda-repo-cli 1.0.20 requires clyent==1.2.1, but you have clyent 1.2.2 which is incompatible.\n",
      "conda-repo-cli 1.0.20 requires nbformat==5.4.0, but you have nbformat 5.5.0 which is incompatible.\n"
     ]
    }
   ],
   "source": [
    "!pip install googletrans==4.0.0-rc1\n"
   ]
  },
  {
   "cell_type": "code",
   "execution_count": 58,
   "id": "15b6bee5",
   "metadata": {},
   "outputs": [],
   "source": [
    "# Initialize the translator\n",
    "\n",
    "translator = Translator()"
   ]
  },
  {
   "cell_type": "code",
   "execution_count": 59,
   "id": "ba292ae7",
   "metadata": {},
   "outputs": [],
   "source": [
    "# Input text\n",
    "\n",
    "input_text = \"Hello, my name ist Nikolay\""
   ]
  },
  {
   "cell_type": "code",
   "execution_count": 60,
   "id": "d5c10de0",
   "metadata": {},
   "outputs": [],
   "source": [
    "# Detecting the language\n",
    "\n",
    "detected_lang = translator.detect(input_text)"
   ]
  },
  {
   "cell_type": "code",
   "execution_count": 63,
   "id": "fa8d0553",
   "metadata": {},
   "outputs": [],
   "source": [
    "# Translating the text\n",
    "\n",
    "translated_text = translator.translate(input_text, dest = \"es\")"
   ]
  },
  {
   "cell_type": "code",
   "execution_count": 71,
   "id": "ac09e067",
   "metadata": {},
   "outputs": [
    {
     "name": "stdout",
     "output_type": "stream",
     "text": [
      "My name is Nikolay\n"
     ]
    }
   ],
   "source": [
    "# Printing the result\n",
    "\n",
    "print(translated_text.text)"
   ]
  },
  {
   "cell_type": "markdown",
   "id": "f85323f2",
   "metadata": {},
   "source": [
    "#### 5. Translator with user input"
   ]
  },
  {
   "cell_type": "code",
   "execution_count": 72,
   "id": "be03b112",
   "metadata": {},
   "outputs": [
    {
     "name": "stdout",
     "output_type": "stream",
     "text": [
      "Please enter your text: Mein Name ist Nikolay und ich komme aus Bulgarien\n",
      "Please enter the desired language: es\n",
      "Mi nombre es Nikolay y vengo de Bulgaria\n",
      "Please enter your text: Stop\n"
     ]
    }
   ],
   "source": [
    "while True:\n",
    "    input_text = input(\"Please enter your text: \")\n",
    "    if input_text == \"Stop\":\n",
    "        break\n",
    "    else:\n",
    "        dest_lang = input(\"Please enter the desired language: \")\n",
    "\n",
    "        detected_lang = translator.detect(input_text)\n",
    "        translated_text = translator.translate(input_text, dest = dest_lang)\n",
    "\n",
    "        print(translated_text.text)"
   ]
  }
 ],
 "metadata": {
  "kernelspec": {
   "display_name": "Python 3 (ipykernel)",
   "language": "python",
   "name": "python3"
  },
  "language_info": {
   "codemirror_mode": {
    "name": "ipython",
    "version": 3
   },
   "file_extension": ".py",
   "mimetype": "text/x-python",
   "name": "python",
   "nbconvert_exporter": "python",
   "pygments_lexer": "ipython3",
   "version": "3.9.13"
  }
 },
 "nbformat": 4,
 "nbformat_minor": 5
}
